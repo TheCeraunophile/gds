{
 "cells": [
  {
   "cell_type": "markdown",
   "id": "f8a0e5d3-822e-4dff-bc9c-810fce62df8d",
   "metadata": {},
   "source": [
    "# Setting up the environment\n",
    "\n",
    "1. Setup virtual environment \n",
    "\n",
    "    One of the followings:\n",
    "\n",
    "    a. \n",
    "    ```cms\n",
    "    python -m venv gdsenv\n",
    "    source gdsenv/bin/activate\n",
    "    ```\n",
    "    \n",
    "    b. \n",
    "    ```cmd\n",
    "    brew install pyenv\n",
    "    pyenv install 3.10.0\n",
    "    pyenv virtualenv 3.10.0 gdsenv\n",
    "    pyenv activate gdsenv\n",
    "\n",
    "    ```"
   ]
  },
  {
   "cell_type": "markdown",
   "id": "0f89157a-0e9d-4525-9478-63fc2848ca1c",
   "metadata": {},
   "source": [
    "2. Install needed packages"
   ]
  },
  {
   "cell_type": "code",
   "execution_count": null,
   "id": "12cfa3c5-165e-4340-a77c-fcf61038d52c",
   "metadata": {
    "tags": []
   },
   "outputs": [],
   "source": [
    "!pip install -U pip\n",
    "!pip install jupyterlab\n",
    "!pip install pandas\n",
    "!pip install scikit-learn\n",
    "!pip install matplotlib\n",
    "!pip install seaborn"
   ]
  },
  {
   "cell_type": "markdown",
   "id": "24b5de99-9fe8-409e-834e-68ad0906e9a2",
   "metadata": {},
   "source": [
    "3. launch the notebook:\n",
    "```cmd \n",
    "jupyter lab\n",
    "```"
   ]
  },
  {
   "cell_type": "markdown",
   "id": "bf99e853-0bd5-481f-9b19-33edf2885c43",
   "metadata": {},
   "source": [
    "# 1. NumPy"
   ]
  },
  {
   "cell_type": "markdown",
   "id": "ebc855e5-83ee-4c8b-a6e9-f315f2017626",
   "metadata": {},
   "source": [
    "## 1.1 Array creation"
   ]
  },
  {
   "cell_type": "code",
   "execution_count": 2,
   "id": "7b914434-f726-4f4e-ac62-ffdd7aff8ff4",
   "metadata": {},
   "outputs": [],
   "source": [
    "import numpy as np"
   ]
  },
  {
   "cell_type": "code",
   "execution_count": 5,
   "id": "948b3b67-693a-45e4-9eb0-bafb68a38d9c",
   "metadata": {},
   "outputs": [
    {
     "data": {
      "text/plain": [
       "array([1, 4, 2, 5, 3])"
      ]
     },
     "execution_count": 5,
     "metadata": {},
     "output_type": "execute_result"
    }
   ],
   "source": [
    "np.array([1, 4, 2, 5, 3])"
   ]
  },
  {
   "cell_type": "code",
   "execution_count": 6,
   "id": "f22fac97-2952-461a-9c44-7243c37ff637",
   "metadata": {},
   "outputs": [
    {
     "data": {
      "text/plain": [
       "array([1., 2., 3., 4.], dtype=float32)"
      ]
     },
     "execution_count": 6,
     "metadata": {},
     "output_type": "execute_result"
    }
   ],
   "source": [
    "np.array([1, 2, 3, 4], dtype='float32')"
   ]
  },
  {
   "cell_type": "code",
   "execution_count": 9,
   "id": "8b0a1ed9-91fd-44e8-922e-6f58e560ddcb",
   "metadata": {},
   "outputs": [
    {
     "data": {
      "text/plain": [
       "array([[2, 3, 4],\n",
       "       [4, 5, 6],\n",
       "       [6, 7, 8]])"
      ]
     },
     "execution_count": 9,
     "metadata": {},
     "output_type": "execute_result"
    }
   ],
   "source": [
    "# nested lists result in multi-dimensional arrays\n",
    "np.array([range(i, i + 3) for i in [2, 4, 6]])"
   ]
  },
  {
   "cell_type": "code",
   "execution_count": 13,
   "id": "97c99d7d-f8de-45a3-b712-12daef3a9d3a",
   "metadata": {},
   "outputs": [
    {
     "data": {
      "text/plain": [
       "array([0, 0, 0, 0, 0, 0, 0, 0, 0, 0])"
      ]
     },
     "execution_count": 13,
     "metadata": {},
     "output_type": "execute_result"
    }
   ],
   "source": [
    "# Create a length-10 integer array filled with zeros\n",
    "np.zeros(10, dtype=int)"
   ]
  },
  {
   "cell_type": "code",
   "execution_count": 10,
   "id": "b60f45d1-8341-49b2-8e6e-6a636bbd69c6",
   "metadata": {},
   "outputs": [
    {
     "data": {
      "text/plain": [
       "array([[1., 1., 1., 1., 1.],\n",
       "       [1., 1., 1., 1., 1.],\n",
       "       [1., 1., 1., 1., 1.]])"
      ]
     },
     "execution_count": 10,
     "metadata": {},
     "output_type": "execute_result"
    }
   ],
   "source": [
    "# Create a 3x5 floating-point array filled with ones\n",
    "np.ones((3, 5), dtype=float)"
   ]
  },
  {
   "cell_type": "code",
   "execution_count": 11,
   "id": "0a31de3a-f35d-4676-891a-9bdbcada44fe",
   "metadata": {},
   "outputs": [
    {
     "data": {
      "text/plain": [
       "array([ 0,  2,  4,  6,  8, 10, 12, 14, 16, 18])"
      ]
     },
     "execution_count": 11,
     "metadata": {},
     "output_type": "execute_result"
    }
   ],
   "source": [
    "# Create an array filled with a linear sequence\n",
    "# Starting at 0, ending at 20, stepping by 2\n",
    "# (this is similar to the built-in range() function)\n",
    "np.arange(start=0, stop=20, step=2)"
   ]
  },
  {
   "cell_type": "code",
   "execution_count": 15,
   "id": "7e2336b8-3328-4f69-95d1-019b3e841f8b",
   "metadata": {},
   "outputs": [
    {
     "data": {
      "text/plain": [
       "array([0.  , 0.25, 0.5 , 0.75, 1.  ])"
      ]
     },
     "execution_count": 15,
     "metadata": {},
     "output_type": "execute_result"
    }
   ],
   "source": [
    "# Create an array of five values evenly spaced between 0 and 1\n",
    "np.linspace(start=0, stop=1, num=5)"
   ]
  },
  {
   "cell_type": "code",
   "execution_count": 17,
   "id": "216fe9f0-6360-4ce2-a26b-34b5cbe20073",
   "metadata": {},
   "outputs": [
    {
     "data": {
      "text/plain": [
       "array([[0.00309229, 0.86345966, 0.37332528],\n",
       "       [0.59753067, 0.40288579, 0.75171468],\n",
       "       [0.08361176, 0.36976865, 0.36582709]])"
      ]
     },
     "execution_count": 17,
     "metadata": {},
     "output_type": "execute_result"
    }
   ],
   "source": [
    "# Create a 3x3 array of uniformly distributed\n",
    "# random values between 0 and 1\n",
    "np.random.random(size=(3, 3))"
   ]
  },
  {
   "cell_type": "code",
   "execution_count": 18,
   "id": "27902900-b07c-4176-b12a-b0543a081ca3",
   "metadata": {},
   "outputs": [
    {
     "data": {
      "text/plain": [
       "array([[4, 5, 1],\n",
       "       [0, 8, 4],\n",
       "       [8, 4, 0]])"
      ]
     },
     "execution_count": 18,
     "metadata": {},
     "output_type": "execute_result"
    }
   ],
   "source": [
    "# Create a 3x3 array of random integers in the interval [0, 10)\n",
    "np.random.randint(low=0, high=10, size=(3, 3))"
   ]
  },
  {
   "cell_type": "code",
   "execution_count": 19,
   "id": "e0778ada-ef11-4574-b339-e3940e150a92",
   "metadata": {},
   "outputs": [
    {
     "data": {
      "text/plain": [
       "array([[1., 0., 0.],\n",
       "       [0., 1., 0.],\n",
       "       [0., 0., 1.]])"
      ]
     },
     "execution_count": 19,
     "metadata": {},
     "output_type": "execute_result"
    }
   ],
   "source": [
    "# Create a 3x3 identity matrix\n",
    "np.eye(3)"
   ]
  },
  {
   "cell_type": "markdown",
   "id": "95dfc7c9-a963-4546-b446-d1e04defaa87",
   "metadata": {},
   "source": [
    "## 1.2 Arrays: basics"
   ]
  },
  {
   "cell_type": "code",
   "execution_count": 27,
   "id": "f88b04c7-479e-4a48-819a-4fb480d41aee",
   "metadata": {},
   "outputs": [
    {
     "name": "stdout",
     "output_type": "stream",
     "text": [
      "A ndim:  3\n",
      "A shape: (3, 4, 5)\n",
      "A size:  60\n",
      "dtype: int64\n",
      "\n",
      "itemsize: 8 bytes\n",
      "nbytes: 480 bytes = itemsize x size(480)\n"
     ]
    }
   ],
   "source": [
    "A = np.random.randint(10, size=(3, 4, 5))  # Three-dimensional array\n",
    "\n",
    "print(\"A ndim: \", A.ndim)\n",
    "print(\"A shape:\", A.shape)\n",
    "print(\"A size: \", A.size)\n",
    "print(\"dtype:\", A.dtype)\n",
    "print()\n",
    "print(\"itemsize:\", A.itemsize, \"bytes\")\n",
    "print(\"nbytes:\", A.nbytes, \"bytes\", \"=\", f\"itemsize x size({A.itemsize * A.size})\")"
   ]
  },
  {
   "cell_type": "markdown",
   "id": "44221776-8340-47c8-b891-0e769addc787",
   "metadata": {},
   "source": [
    "### Indexing"
   ]
  },
  {
   "cell_type": "code",
   "execution_count": 43,
   "id": "7e0dc642-5b57-4d27-aec5-29164b678eff",
   "metadata": {},
   "outputs": [],
   "source": [
    "X = np.random.randint(10, size=10)\n",
    "Y = np.random.randint(10, size=(5, 10))"
   ]
  },
  {
   "cell_type": "code",
   "execution_count": 78,
   "id": "de6b544f-c6b5-494b-8ae0-0c0bfb64ca34",
   "metadata": {},
   "outputs": [
    {
     "name": "stdout",
     "output_type": "stream",
     "text": [
      "X = [1 4 9 4 7 8 2 7 4 4]\n",
      "Y =  [[4 5 8 2 7 4 2 5 0 7]\n",
      " [0 3 3 2 1 7 1 6 8 8]\n",
      " [3 6 9 5 4 2 6 0 3 5]\n",
      " [7 7 6 1 1 3 8 6 2 5]\n",
      " [6 0 9 3 3 3 1 2 5 1]]\n",
      "\n",
      "X[6] = 2\n",
      "Y[2, 3] = 5\n",
      "Y[2, 3] = 5\n"
     ]
    }
   ],
   "source": [
    "print(\"X =\",  X)\n",
    "print(\"Y = \", Y)\n",
    "print()\n",
    "print(f\"X[6] = {X[6]}\")\n",
    "print(f\"Y[2, 3] = {Y[2, 3]}\")\n",
    "print(f\"Y[2, 3] = {Y[2, -1]}\")"
   ]
  },
  {
   "cell_type": "markdown",
   "id": "55f1fd82-3630-4f4c-84b6-ae6466be7a3d",
   "metadata": {},
   "source": [
    "### Slicing"
   ]
  },
  {
   "cell_type": "code",
   "execution_count": 55,
   "id": "efff8cf2-d647-4c39-99c5-eab4b5860dcf",
   "metadata": {},
   "outputs": [
    {
     "name": "stdout",
     "output_type": "stream",
     "text": [
      "X[3: 8] =  [4 7 8 2 7]\n",
      "X[3: -1: 2] =  [4 8 7]\n",
      "Y[:: 1] =  [5 3 6 7 0]\n",
      "Y[:: 1] =  [[6 9 5]\n",
      " [7 6 1]]\n"
     ]
    }
   ],
   "source": [
    "# X[start:stop:step]\n",
    "print(\"X[3: 8] = \", X[3: 8])\n",
    "print(\"X[3: -1: 2] = \", X[3: -1: 2])\n",
    "print(\"Y[:: 1] = \", Y[:, 1])\n",
    "print(\"Y[:: 1] = \", Y[2:4:, 1: 4])"
   ]
  },
  {
   "cell_type": "code",
   "execution_count": 79,
   "id": "e02d15e6-5660-4a47-a89f-d6655a95af0c",
   "metadata": {},
   "outputs": [
    {
     "data": {
      "text/plain": [
       "array([[ 0,  1,  2,  3],\n",
       "       [ 4,  5,  6,  7],\n",
       "       [ 8,  9, 10, 11]])"
      ]
     },
     "execution_count": 79,
     "metadata": {},
     "output_type": "execute_result"
    }
   ],
   "source": [
    "X = np.arange(12).reshape((3, 4))\n",
    "X"
   ]
  },
  {
   "cell_type": "code",
   "execution_count": 80,
   "id": "4f2aba64-0c64-4c8b-abf8-7526ab93f965",
   "metadata": {},
   "outputs": [
    {
     "data": {
      "text/plain": [
       "array([[ 6,  4,  5],\n",
       "       [10,  8,  9]])"
      ]
     },
     "execution_count": 80,
     "metadata": {},
     "output_type": "execute_result"
    }
   ],
   "source": [
    "X[1:, [2, 0, 1]]"
   ]
  },
  {
   "cell_type": "markdown",
   "id": "3876c9ab-024d-4f59-83d4-4380036c2bc9",
   "metadata": {},
   "source": [
    "## 1.3 Performance issues"
   ]
  },
  {
   "cell_type": "markdown",
   "id": "947a30ab-ba6e-41ab-8357-ed44a521040f",
   "metadata": {},
   "source": [
    "### Loops"
   ]
  },
  {
   "cell_type": "code",
   "execution_count": 58,
   "id": "597cad48-266f-47c7-8f37-128ce1154b36",
   "metadata": {},
   "outputs": [],
   "source": [
    "np.random.seed(0)\n",
    "\n",
    "def compute_reciprocals(values):\n",
    "    output = np.empty(len(values))\n",
    "    for i in range(len(values)):\n",
    "        output[i] = 1.0 / values[i]\n",
    "    return \n",
    "\n",
    "big_array = np.random.randint(1, 100, size=1000000)"
   ]
  },
  {
   "cell_type": "code",
   "execution_count": 59,
   "id": "5805fe55-6c47-4e31-bbb7-898fb6f40a24",
   "metadata": {},
   "outputs": [
    {
     "name": "stdout",
     "output_type": "stream",
     "text": [
      "722 ms ± 2.77 ms per loop (mean ± std. dev. of 7 runs, 1 loop each)\n"
     ]
    }
   ],
   "source": [
    "%timeit compute_reciprocals(big_array)"
   ]
  },
  {
   "cell_type": "markdown",
   "id": "6d90e90a-37fb-4d6b-835d-23158723f004",
   "metadata": {},
   "source": [
    "### Universal functions\n",
    "\n",
    "Pushing loops into the compiled layer."
   ]
  },
  {
   "cell_type": "code",
   "execution_count": 60,
   "id": "8a7fa690-1f85-4a9e-b95e-5387c71eeab4",
   "metadata": {},
   "outputs": [
    {
     "name": "stdout",
     "output_type": "stream",
     "text": [
      "746 µs ± 6.12 µs per loop (mean ± std. dev. of 7 runs, 1,000 loops each)\n"
     ]
    }
   ],
   "source": [
    "%timeit (1.0 / big_array)"
   ]
  },
  {
   "cell_type": "code",
   "execution_count": 62,
   "id": "1e322b47-f423-4476-aaaa-940f3772ed9b",
   "metadata": {},
   "outputs": [
    {
     "name": "stdout",
     "output_type": "stream",
     "text": [
      "x     = [0 1 2 3]\n",
      "x + 5 = [5 6 7 8]\n",
      "x * 2 = [0 2 4 6]\n",
      "x // 2 = [0 0 1 1]\n"
     ]
    }
   ],
   "source": [
    "x = np.arange(4)\n",
    "print(\"x     =\", x)\n",
    "print(\"x + 5 =\", x + 5)\n",
    "print(\"x * 2 =\", x * 2)\n",
    "print(\"x // 2 =\", x // 2)  # floor division"
   ]
  },
  {
   "cell_type": "code",
   "execution_count": 65,
   "id": "562b70a2-cd74-48a0-b9ed-9d5ba26b5efc",
   "metadata": {},
   "outputs": [
    {
     "name": "stdout",
     "output_type": "stream",
     "text": [
      "theta      =  [0.         1.57079633 3.14159265]\n",
      "sin(theta) =  [0.0000000e+00 1.0000000e+00 1.2246468e-16]\n",
      "cos(theta) =  [ 1.000000e+00  6.123234e-17 -1.000000e+00]\n",
      "tan(theta) =  [ 0.00000000e+00  1.63312394e+16 -1.22464680e-16]\n"
     ]
    }
   ],
   "source": [
    "theta = np.linspace(0, np.pi, 3)\n",
    "\n",
    "print(\"theta      = \", theta)\n",
    "print(\"sin(theta) = \", np.sin(theta))\n",
    "print(\"cos(theta) = \", np.cos(theta))\n",
    "print(\"tan(theta) = \", np.tan(theta))"
   ]
  },
  {
   "cell_type": "markdown",
   "id": "0f08d549-905c-454a-b6f3-f5f37388d3d6",
   "metadata": {},
   "source": [
    "And a lot more mathematical functions"
   ]
  },
  {
   "cell_type": "markdown",
   "id": "e89158bf-5d06-41c4-a8c0-bbf4ca824eab",
   "metadata": {},
   "source": [
    "### Broadcasting"
   ]
  },
  {
   "cell_type": "markdown",
   "id": "ef9c8063-76ea-4c80-bf2a-f24dcea3e402",
   "metadata": {},
   "source": [
    "Allows binary operations to be performed on arrays of different sizes"
   ]
  },
  {
   "cell_type": "code",
   "execution_count": 72,
   "id": "a8709bfd-422a-4f20-b025-cfa2365a9fbb",
   "metadata": {},
   "outputs": [
    {
     "name": "stdout",
     "output_type": "stream",
     "text": [
      "[0 1 2]\n",
      "[[0]\n",
      " [1]\n",
      " [2]]\n"
     ]
    }
   ],
   "source": [
    "a = np.arange(3)\n",
    "b = a.reshape(1, -1).T # np.arange(3)[:, np.newaxis]\n",
    "\n",
    "print(a)\n",
    "print(b)"
   ]
  },
  {
   "cell_type": "code",
   "execution_count": 73,
   "id": "f4d0fc27-f109-422f-94f6-555465cc97d0",
   "metadata": {},
   "outputs": [
    {
     "data": {
      "text/plain": [
       "array([[0, 1, 2],\n",
       "       [1, 2, 3],\n",
       "       [2, 3, 4]])"
      ]
     },
     "execution_count": 73,
     "metadata": {},
     "output_type": "execute_result"
    }
   ],
   "source": [
    "a + b"
   ]
  },
  {
   "cell_type": "markdown",
   "id": "73d23917-835d-4f87-bbbb-36ba29120517",
   "metadata": {},
   "source": [
    "![image info](./imgs/broadcasting.png)"
   ]
  },
  {
   "cell_type": "markdown",
   "id": "97c3071e-8890-4af3-9ca9-ea7379c66845",
   "metadata": {},
   "source": [
    "The light boxes are the broadcasted values."
   ]
  },
  {
   "cell_type": "markdown",
   "id": "ab07975e-4357-4304-8d54-ea355cc9b376",
   "metadata": {},
   "source": [
    "#### It is not always possible"
   ]
  },
  {
   "cell_type": "code",
   "execution_count": 76,
   "id": "42ebafd0-b1b8-4e8a-a244-2e9c2fb3fa89",
   "metadata": {},
   "outputs": [
    {
     "name": "stdout",
     "output_type": "stream",
     "text": [
      "[[1. 1.]\n",
      " [1. 1.]\n",
      " [1. 1.]]\n",
      "[0 1 2]\n"
     ]
    }
   ],
   "source": [
    "a = np.ones((3, 2))\n",
    "b = np.arange(3)\n",
    "\n",
    "print(a)\n",
    "print(b)"
   ]
  },
  {
   "cell_type": "code",
   "execution_count": 77,
   "id": "a6f5d579-8a7e-43bf-8681-fe5721a5f903",
   "metadata": {},
   "outputs": [
    {
     "ename": "ValueError",
     "evalue": "operands could not be broadcast together with shapes (3,2) (3,) ",
     "output_type": "error",
     "traceback": [
      "\u001b[0;31m---------------------------------------------------------------------------\u001b[0m",
      "\u001b[0;31mValueError\u001b[0m                                Traceback (most recent call last)",
      "Cell \u001b[0;32mIn[77], line 1\u001b[0m\n\u001b[0;32m----> 1\u001b[0m \u001b[43ma\u001b[49m\u001b[43m \u001b[49m\u001b[38;5;241;43m+\u001b[39;49m\u001b[43m \u001b[49m\u001b[43mb\u001b[49m\n",
      "\u001b[0;31mValueError\u001b[0m: operands could not be broadcast together with shapes (3,2) (3,) "
     ]
    }
   ],
   "source": [
    "a + b"
   ]
  },
  {
   "cell_type": "markdown",
   "id": "9067cf2e-b624-47e3-8315-c21a007f6aa3",
   "metadata": {},
   "source": [
    "## Example"
   ]
  },
  {
   "cell_type": "code",
   "execution_count": 93,
   "id": "18fae5e0-a626-4265-8f17-2af911c8f424",
   "metadata": {},
   "outputs": [
    {
     "data": {
      "text/plain": [
       "(100, 2)"
      ]
     },
     "execution_count": 93,
     "metadata": {},
     "output_type": "execute_result"
    }
   ],
   "source": [
    "mean = [0, 0]\n",
    "cov = [[1, 2],\n",
    "       [2, 5]]\n",
    "X = np.random.multivariate_normal(mean, cov, 100)\n",
    "X.shape"
   ]
  },
  {
   "cell_type": "code",
   "execution_count": 124,
   "id": "6b134697-a28e-44f9-8ed3-b89320287718",
   "metadata": {},
   "outputs": [
    {
     "data": {
      "text/plain": [
       "<matplotlib.collections.PathCollection at 0x156db6470>"
      ]
     },
     "execution_count": 124,
     "metadata": {},
     "output_type": "execute_result"
    },
    {
     "data": {
      "image/png": "[encoded data removed]",
      "text/plain": [
       "<Figure size 640x480 with 1 Axes>"
      ]
     },
     "metadata": {},
     "output_type": "display_data"
    }
   ],
   "source": [
    "%matplotlib inline\n",
    "\n",
    "rand = np.random.RandomState(0)\n",
    "\n",
    "mean = [0, 0]\n",
    "cov = [[1, 2],\n",
    "       [2, 5]]\n",
    "X = rand.multivariate_normal(mean, cov, 100)\n",
    "\n",
    "import matplotlib.pyplot as plt\n",
    "import seaborn; seaborn.set()  # for plot styling\n",
    "\n",
    "plt.scatter(X[:, 0], X[:, 1])"
   ]
  },
  {
   "cell_type": "code",
   "execution_count": 120,
   "id": "426ba736-3e48-4f9f-a858-08cebe04a9be",
   "metadata": {},
   "outputs": [
    {
     "data": {
      "text/plain": [
       "(20, 2)"
      ]
     },
     "execution_count": 120,
     "metadata": {},
     "output_type": "execute_result"
    }
   ],
   "source": [
    "indices = np.random.choice(X.shape[0], 20, replace=False)\n",
    "selection = X[indices]  # fancy indexing here\n",
    "selection.shape"
   ]
  },
  {
   "cell_type": "code",
   "execution_count": 121,
   "id": "9a99df84-4881-4515-8455-41f859577ab7",
   "metadata": {},
   "outputs": [
    {
     "data": {
      "text/plain": [
       "<matplotlib.collections.PathCollection at 0x156c1ba90>"
      ]
     },
     "execution_count": 121,
     "metadata": {},
     "output_type": "execute_result"
    },
    {
     "data": {
      "image/png": "[encoded data removed]",
      "text/plain": [
       "<Figure size 640x480 with 1 Axes>"
      ]
     },
     "metadata": {},
     "output_type": "display_data"
    }
   ],
   "source": [
    "plt.scatter(X[:, 0], X[:, 1], alpha=0.3)\n",
    "plt.scatter(\n",
    "    selection[:, 0], selection[:, 1], s=50, c='green'\n",
    ")"
   ]
  },
  {
   "cell_type": "markdown",
   "id": "81c249e7-c1a8-43e2-9816-649e04b2efab",
   "metadata": {
    "tags": []
   },
   "source": [
    "# 2. Pandas"
   ]
  },
  {
   "cell_type": "code",
   "execution_count": 3,
   "id": "b1671161-70fc-4bf8-837f-2f621aa6946c",
   "metadata": {},
   "outputs": [],
   "source": [
    "import pandas as pd"
   ]
  },
  {
   "cell_type": "markdown",
   "id": "9c74dbc9-b8d0-4deb-a40e-b16974ffc056",
   "metadata": {},
   "source": [
    "## 2.1 Series\n",
    "One dimensional objects"
   ]
  },
  {
   "cell_type": "code",
   "execution_count": 127,
   "id": "bc3a9509-6312-44f8-aef4-646e0c645e5a",
   "metadata": {},
   "outputs": [
    {
     "data": {
      "text/plain": [
       "0    0.25\n",
       "1    0.50\n",
       "2    0.75\n",
       "3    1.00\n",
       "dtype: float64"
      ]
     },
     "execution_count": 127,
     "metadata": {},
     "output_type": "execute_result"
    }
   ],
   "source": [
    "data = pd.Series([0.25, 0.5, 0.75, 1.0])\n",
    "data"
   ]
  },
  {
   "cell_type": "code",
   "execution_count": 130,
   "id": "6755e712-2d69-437e-a137-3bc7a5520b0a",
   "metadata": {},
   "outputs": [
    {
     "name": "stdout",
     "output_type": "stream",
     "text": [
      "data.values: [0.25 0.5  0.75 1.  ]\n",
      "data.index: RangeIndex(start=0, stop=4, step=1)\n",
      "data[1]: 0.5\n",
      "data[1:3]:\n",
      " 1    0.50\n",
      "2    0.75\n",
      "dtype: float64\n"
     ]
    }
   ],
   "source": [
    "print(\"data.values:\", data.values)\n",
    "print(\"data.index:\", data.index)\n",
    "print(\"data[1]:\", data[1])\n",
    "print(\"data[1:3]:\\n\", data[1:3])"
   ]
  },
  {
   "cell_type": "markdown",
   "id": "ee3a64e5-76f3-44bd-8eb2-a1952269452c",
   "metadata": {},
   "source": [
    "#### Index objet"
   ]
  },
  {
   "cell_type": "code",
   "execution_count": 136,
   "id": "05dfb834-3a00-4768-a356-274ff7057618",
   "metadata": {},
   "outputs": [
    {
     "name": "stdout",
     "output_type": "stream",
     "text": [
      "a    0.25\n",
      "b    0.50\n",
      "c    0.75\n",
      "d    1.00\n",
      "dtype: float64\n",
      "2    0.25\n",
      "5    0.50\n",
      "7    0.75\n",
      "3    1.00\n",
      "dtype: float64\n"
     ]
    }
   ],
   "source": [
    "data = pd.Series(\n",
    "    [0.25, 0.5, 0.75, 1.0],index=['a', 'b', 'c', 'd']\n",
    ")\n",
    "print(data)\n",
    "\n",
    "# index can be anything\n",
    "data = pd.Series([0.25, 0.5, 0.75, 1.0],\n",
    "                 index=[2, 5, 7, 3])\n",
    "print(data)"
   ]
  },
  {
   "cell_type": "markdown",
   "id": "fbb94015-bae8-4569-9a7f-745bc54585d2",
   "metadata": {},
   "source": [
    "**Note that indeices are not sorted**"
   ]
  },
  {
   "cell_type": "markdown",
   "id": "2c3b898f-c65d-42e7-8738-bce022ff6edd",
   "metadata": {},
   "source": [
    "#### Construction via dicationary "
   ]
  },
  {
   "cell_type": "code",
   "execution_count": 12,
   "id": "30ad03be-11c2-4275-b5b6-7a55511fb319",
   "metadata": {},
   "outputs": [
    {
     "data": {
      "text/plain": [
       "California    38332521\n",
       "Texas         26448193\n",
       "New York      19651127\n",
       "Florida       19552860\n",
       "Illinois      12882135\n",
       "dtype: int64"
      ]
     },
     "execution_count": 12,
     "metadata": {},
     "output_type": "execute_result"
    }
   ],
   "source": [
    "population_dict = {'California': 38332521,\n",
    "                   'Texas': 26448193,\n",
    "                   'New York': 19651127,\n",
    "                   'Florida': 19552860,\n",
    "                   'Illinois': 12882135}\n",
    "population = pd.Series(population_dict)\n",
    "population"
   ]
  },
  {
   "cell_type": "code",
   "execution_count": 13,
   "id": "4a662b35-c9a5-457c-bb01-172615d259f5",
   "metadata": {},
   "outputs": [
    {
     "data": {
      "text/plain": [
       "California    38332521\n",
       "Texas         26448193\n",
       "New York      19651127\n",
       "dtype: int64"
      ]
     },
     "execution_count": 13,
     "metadata": {},
     "output_type": "execute_result"
    }
   ],
   "source": [
    "population['California':'New York']"
   ]
  },
  {
   "cell_type": "markdown",
   "id": "a3724e40-994c-4cb9-a705-b12725b4ea54",
   "metadata": {},
   "source": [
    "## 2.2  DataFrames"
   ]
  },
  {
   "cell_type": "markdown",
   "id": "c5736392-f8d2-4229-82bd-3dd1c0324470",
   "metadata": {},
   "source": [
    "### From series"
   ]
  },
  {
   "cell_type": "code",
   "execution_count": 14,
   "id": "24ac0113-2d2d-4b75-b7e2-772e5767f865",
   "metadata": {},
   "outputs": [
    {
     "data": {
      "text/html": [
       "<div>\n",
       "<style scoped>\n",
       "    .dataframe tbody tr th:only-of-type {\n",
       "        vertical-align: middle;\n",
       "    }\n",
       "\n",
       "    .dataframe tbody tr th {\n",
       "        vertical-align: top;\n",
       "    }\n",
       "\n",
       "    .dataframe thead th {\n",
       "        text-align: right;\n",
       "    }\n",
       "</style>\n",
       "<table border=\"1\" class=\"dataframe\">\n",
       "  <thead>\n",
       "    <tr style=\"text-align: right;\">\n",
       "      <th></th>\n",
       "      <th>population</th>\n",
       "      <th>area</th>\n",
       "    </tr>\n",
       "  </thead>\n",
       "  <tbody>\n",
       "    <tr>\n",
       "      <th>California</th>\n",
       "      <td>38332521</td>\n",
       "      <td>423967</td>\n",
       "    </tr>\n",
       "    <tr>\n",
       "      <th>Texas</th>\n",
       "      <td>26448193</td>\n",
       "      <td>695662</td>\n",
       "    </tr>\n",
       "    <tr>\n",
       "      <th>New York</th>\n",
       "      <td>19651127</td>\n",
       "      <td>141297</td>\n",
       "    </tr>\n",
       "    <tr>\n",
       "      <th>Florida</th>\n",
       "      <td>19552860</td>\n",
       "      <td>170312</td>\n",
       "    </tr>\n",
       "    <tr>\n",
       "      <th>Illinois</th>\n",
       "      <td>12882135</td>\n",
       "      <td>149995</td>\n",
       "    </tr>\n",
       "  </tbody>\n",
       "</table>\n",
       "</div>"
      ],
      "text/plain": [
       "            population    area\n",
       "California    38332521  423967\n",
       "Texas         26448193  695662\n",
       "New York      19651127  141297\n",
       "Florida       19552860  170312\n",
       "Illinois      12882135  149995"
      ]
     },
     "execution_count": 14,
     "metadata": {},
     "output_type": "execute_result"
    }
   ],
   "source": [
    "area_dict = {'California': 423967, 'Texas': 695662, 'New York': 141297,\n",
    "             'Florida': 170312, 'Illinois': 149995}\n",
    "area = pd.Series(area_dict)\n",
    "\n",
    "states = pd.DataFrame({'population': population,\n",
    "                       'area': area})\n",
    "states"
   ]
  },
  {
   "cell_type": "code",
   "execution_count": 140,
   "id": "c1ce09c4-7eb9-46ee-a78a-1547660ae50f",
   "metadata": {},
   "outputs": [
    {
     "name": "stdout",
     "output_type": "stream",
     "text": [
      "states.index: Index(['California', 'Texas', 'New York', 'Florida', 'Illinois'], dtype='object')\n",
      "states.columns: Index(['population', 'area'], dtype='object')\n",
      "states['area']: \n",
      " California    423967\n",
      "Texas         695662\n",
      "New York      141297\n",
      "Florida       170312\n",
      "Illinois      149995\n",
      "Name: area, dtype: int64\n"
     ]
    }
   ],
   "source": [
    "print(\"states.index:\", states.index)\n",
    "print(\"states.columns:\", states.columns)\n",
    "print(\"states['area']: \\n\", states['area'])"
   ]
  },
  {
   "cell_type": "markdown",
   "id": "df57d547-1643-4945-9a67-bac9b03fb86d",
   "metadata": {},
   "source": [
    "### From 2-dim numpy"
   ]
  },
  {
   "cell_type": "code",
   "execution_count": 143,
   "id": "fb321c08-325b-49f9-a582-3b76dea0a806",
   "metadata": {},
   "outputs": [
    {
     "data": {
      "text/html": [
       "<div>\n",
       "<style scoped>\n",
       "    .dataframe tbody tr th:only-of-type {\n",
       "        vertical-align: middle;\n",
       "    }\n",
       "\n",
       "    .dataframe tbody tr th {\n",
       "        vertical-align: top;\n",
       "    }\n",
       "\n",
       "    .dataframe thead th {\n",
       "        text-align: right;\n",
       "    }\n",
       "</style>\n",
       "<table border=\"1\" class=\"dataframe\">\n",
       "  <thead>\n",
       "    <tr style=\"text-align: right;\">\n",
       "      <th></th>\n",
       "      <th>foo</th>\n",
       "      <th>bar</th>\n",
       "    </tr>\n",
       "  </thead>\n",
       "  <tbody>\n",
       "    <tr>\n",
       "      <th>a</th>\n",
       "      <td>0.543500</td>\n",
       "      <td>0.394145</td>\n",
       "    </tr>\n",
       "    <tr>\n",
       "      <th>b</th>\n",
       "      <td>0.906988</td>\n",
       "      <td>0.088537</td>\n",
       "    </tr>\n",
       "    <tr>\n",
       "      <th>c</th>\n",
       "      <td>0.545589</td>\n",
       "      <td>0.052015</td>\n",
       "    </tr>\n",
       "  </tbody>\n",
       "</table>\n",
       "</div>"
      ],
      "text/plain": [
       "        foo       bar\n",
       "a  0.543500  0.394145\n",
       "b  0.906988  0.088537\n",
       "c  0.545589  0.052015"
      ]
     },
     "execution_count": 143,
     "metadata": {},
     "output_type": "execute_result"
    }
   ],
   "source": [
    "pd.DataFrame(data=np.random.rand(3, 2), columns=['foo', 'bar'], index=['a', 'b', 'c'])"
   ]
  },
  {
   "cell_type": "markdown",
   "id": "a2313236-cae8-4f0c-b20b-15f977801769",
   "metadata": {},
   "source": [
    "### From dictionaries "
   ]
  },
  {
   "cell_type": "code",
   "execution_count": 142,
   "id": "ee4013d3-6d8b-427c-a9c8-ed537e09fa4f",
   "metadata": {},
   "outputs": [
    {
     "data": {
      "text/html": [
       "<div>\n",
       "<style scoped>\n",
       "    .dataframe tbody tr th:only-of-type {\n",
       "        vertical-align: middle;\n",
       "    }\n",
       "\n",
       "    .dataframe tbody tr th {\n",
       "        vertical-align: top;\n",
       "    }\n",
       "\n",
       "    .dataframe thead th {\n",
       "        text-align: right;\n",
       "    }\n",
       "</style>\n",
       "<table border=\"1\" class=\"dataframe\">\n",
       "  <thead>\n",
       "    <tr style=\"text-align: right;\">\n",
       "      <th></th>\n",
       "      <th>col1</th>\n",
       "      <th>col2</th>\n",
       "    </tr>\n",
       "  </thead>\n",
       "  <tbody>\n",
       "    <tr>\n",
       "      <th>0</th>\n",
       "      <td>1</td>\n",
       "      <td>11</td>\n",
       "    </tr>\n",
       "    <tr>\n",
       "      <th>1</th>\n",
       "      <td>2</td>\n",
       "      <td>22</td>\n",
       "    </tr>\n",
       "    <tr>\n",
       "      <th>2</th>\n",
       "      <td>3</td>\n",
       "      <td>33</td>\n",
       "    </tr>\n",
       "  </tbody>\n",
       "</table>\n",
       "</div>"
      ],
      "text/plain": [
       "   col1  col2\n",
       "0     1    11\n",
       "1     2    22\n",
       "2     3    33"
      ]
     },
     "execution_count": 142,
     "metadata": {},
     "output_type": "execute_result"
    }
   ],
   "source": [
    "pd.DataFrame({\"col1\": [1, 2, 3], \"col2\": [11, 22, 33]}) "
   ]
  },
  {
   "cell_type": "markdown",
   "id": "d7710f5a-c0e1-4a3f-8e82-ba6464d95c16",
   "metadata": {},
   "source": [
    "### Indexers: loc, iloc"
   ]
  },
  {
   "cell_type": "code",
   "execution_count": 144,
   "id": "a3cb6794-e5d6-467e-91b4-778f4d78deb9",
   "metadata": {},
   "outputs": [
    {
     "data": {
      "text/html": [
       "<div>\n",
       "<style scoped>\n",
       "    .dataframe tbody tr th:only-of-type {\n",
       "        vertical-align: middle;\n",
       "    }\n",
       "\n",
       "    .dataframe tbody tr th {\n",
       "        vertical-align: top;\n",
       "    }\n",
       "\n",
       "    .dataframe thead th {\n",
       "        text-align: right;\n",
       "    }\n",
       "</style>\n",
       "<table border=\"1\" class=\"dataframe\">\n",
       "  <thead>\n",
       "    <tr style=\"text-align: right;\">\n",
       "      <th></th>\n",
       "      <th>population</th>\n",
       "    </tr>\n",
       "  </thead>\n",
       "  <tbody>\n",
       "    <tr>\n",
       "      <th>California</th>\n",
       "      <td>38332521</td>\n",
       "    </tr>\n",
       "    <tr>\n",
       "      <th>Texas</th>\n",
       "      <td>26448193</td>\n",
       "    </tr>\n",
       "    <tr>\n",
       "      <th>New York</th>\n",
       "      <td>19651127</td>\n",
       "    </tr>\n",
       "  </tbody>\n",
       "</table>\n",
       "</div>"
      ],
      "text/plain": [
       "            population\n",
       "California    38332521\n",
       "Texas         26448193\n",
       "New York      19651127"
      ]
     },
     "execution_count": 144,
     "metadata": {},
     "output_type": "execute_result"
    }
   ],
   "source": [
    "states.loc[\"California\": \"New York\", [\"population\"]]"
   ]
  },
  {
   "cell_type": "code",
   "execution_count": 152,
   "id": "c75d5bb1-6cb4-4aeb-948b-e7eb234a62af",
   "metadata": {},
   "outputs": [
    {
     "data": {
      "text/plain": [
       "California    38332521\n",
       "Texas         26448193\n",
       "Name: population, dtype: int64"
      ]
     },
     "execution_count": 152,
     "metadata": {},
     "output_type": "execute_result"
    }
   ],
   "source": [
    "states.iloc[0: 2, 0]"
   ]
  },
  {
   "cell_type": "code",
   "execution_count": 149,
   "id": "4021fd35-477b-4b5b-95dc-48e2b49a2433",
   "metadata": {},
   "outputs": [
    {
     "data": {
      "text/html": [
       "<div>\n",
       "<style scoped>\n",
       "    .dataframe tbody tr th:only-of-type {\n",
       "        vertical-align: middle;\n",
       "    }\n",
       "\n",
       "    .dataframe tbody tr th {\n",
       "        vertical-align: top;\n",
       "    }\n",
       "\n",
       "    .dataframe thead th {\n",
       "        text-align: right;\n",
       "    }\n",
       "</style>\n",
       "<table border=\"1\" class=\"dataframe\">\n",
       "  <thead>\n",
       "    <tr style=\"text-align: right;\">\n",
       "      <th></th>\n",
       "      <th>population</th>\n",
       "    </tr>\n",
       "  </thead>\n",
       "  <tbody>\n",
       "    <tr>\n",
       "      <th>California</th>\n",
       "      <td>38332521</td>\n",
       "    </tr>\n",
       "    <tr>\n",
       "      <th>Texas</th>\n",
       "      <td>26448193</td>\n",
       "    </tr>\n",
       "  </tbody>\n",
       "</table>\n",
       "</div>"
      ],
      "text/plain": [
       "            population\n",
       "California    38332521\n",
       "Texas         26448193"
      ]
     },
     "execution_count": 149,
     "metadata": {},
     "output_type": "execute_result"
    }
   ],
   "source": [
    "states.iloc[0: 2, [0]]"
   ]
  },
  {
   "cell_type": "markdown",
   "id": "9190c572-b106-47a3-b69a-26aeed0cfbe8",
   "metadata": {},
   "source": [
    "### Value assignment "
   ]
  },
  {
   "cell_type": "code",
   "execution_count": 155,
   "id": "530fd3a8-d429-425f-beec-f7eb174b2e60",
   "metadata": {},
   "outputs": [
    {
     "data": {
      "text/html": [
       "<div>\n",
       "<style scoped>\n",
       "    .dataframe tbody tr th:only-of-type {\n",
       "        vertical-align: middle;\n",
       "    }\n",
       "\n",
       "    .dataframe tbody tr th {\n",
       "        vertical-align: top;\n",
       "    }\n",
       "\n",
       "    .dataframe thead th {\n",
       "        text-align: right;\n",
       "    }\n",
       "</style>\n",
       "<table border=\"1\" class=\"dataframe\">\n",
       "  <thead>\n",
       "    <tr style=\"text-align: right;\">\n",
       "      <th></th>\n",
       "      <th>population</th>\n",
       "      <th>area</th>\n",
       "      <th>density</th>\n",
       "    </tr>\n",
       "  </thead>\n",
       "  <tbody>\n",
       "    <tr>\n",
       "      <th>California</th>\n",
       "      <td>38332521</td>\n",
       "      <td>423967</td>\n",
       "      <td>90.413926</td>\n",
       "    </tr>\n",
       "    <tr>\n",
       "      <th>Texas</th>\n",
       "      <td>26448193</td>\n",
       "      <td>695662</td>\n",
       "      <td>38.018740</td>\n",
       "    </tr>\n",
       "    <tr>\n",
       "      <th>New York</th>\n",
       "      <td>19651127</td>\n",
       "      <td>141297</td>\n",
       "      <td>139.076746</td>\n",
       "    </tr>\n",
       "    <tr>\n",
       "      <th>Florida</th>\n",
       "      <td>19552860</td>\n",
       "      <td>170312</td>\n",
       "      <td>114.806121</td>\n",
       "    </tr>\n",
       "    <tr>\n",
       "      <th>Illinois</th>\n",
       "      <td>12882135</td>\n",
       "      <td>149995</td>\n",
       "      <td>85.883763</td>\n",
       "    </tr>\n",
       "  </tbody>\n",
       "</table>\n",
       "</div>"
      ],
      "text/plain": [
       "            population    area     density\n",
       "California    38332521  423967   90.413926\n",
       "Texas         26448193  695662   38.018740\n",
       "New York      19651127  141297  139.076746\n",
       "Florida       19552860  170312  114.806121\n",
       "Illinois      12882135  149995   85.883763"
      ]
     },
     "execution_count": 155,
     "metadata": {},
     "output_type": "execute_result"
    }
   ],
   "source": [
    "states['density'] = states['population'] / states['area']\n",
    "states"
   ]
  },
  {
   "cell_type": "code",
   "execution_count": 159,
   "id": "e355f7a7-734b-49cf-9115-616b1d66fbd8",
   "metadata": {},
   "outputs": [],
   "source": [
    "states.drop(columns=[\"density\"], inplace=True)"
   ]
  },
  {
   "cell_type": "code",
   "execution_count": 161,
   "id": "2578956f-46d4-4a19-803d-fc4b1cc2bf72",
   "metadata": {},
   "outputs": [
    {
     "data": {
      "text/html": [
       "<div>\n",
       "<style scoped>\n",
       "    .dataframe tbody tr th:only-of-type {\n",
       "        vertical-align: middle;\n",
       "    }\n",
       "\n",
       "    .dataframe tbody tr th {\n",
       "        vertical-align: top;\n",
       "    }\n",
       "\n",
       "    .dataframe thead th {\n",
       "        text-align: right;\n",
       "    }\n",
       "</style>\n",
       "<table border=\"1\" class=\"dataframe\">\n",
       "  <thead>\n",
       "    <tr style=\"text-align: right;\">\n",
       "      <th></th>\n",
       "      <th>population</th>\n",
       "      <th>area</th>\n",
       "      <th>density</th>\n",
       "    </tr>\n",
       "  </thead>\n",
       "  <tbody>\n",
       "    <tr>\n",
       "      <th>California</th>\n",
       "      <td>38332521</td>\n",
       "      <td>423967</td>\n",
       "      <td>90.413926</td>\n",
       "    </tr>\n",
       "    <tr>\n",
       "      <th>Texas</th>\n",
       "      <td>26448193</td>\n",
       "      <td>695662</td>\n",
       "      <td>38.018740</td>\n",
       "    </tr>\n",
       "    <tr>\n",
       "      <th>New York</th>\n",
       "      <td>19651127</td>\n",
       "      <td>141297</td>\n",
       "      <td>139.076746</td>\n",
       "    </tr>\n",
       "    <tr>\n",
       "      <th>Florida</th>\n",
       "      <td>19552860</td>\n",
       "      <td>170312</td>\n",
       "      <td>114.806121</td>\n",
       "    </tr>\n",
       "    <tr>\n",
       "      <th>Illinois</th>\n",
       "      <td>12882135</td>\n",
       "      <td>149995</td>\n",
       "      <td>85.883763</td>\n",
       "    </tr>\n",
       "  </tbody>\n",
       "</table>\n",
       "</div>"
      ],
      "text/plain": [
       "            population    area     density\n",
       "California    38332521  423967   90.413926\n",
       "Texas         26448193  695662   38.018740\n",
       "New York      19651127  141297  139.076746\n",
       "Florida       19552860  170312  114.806121\n",
       "Illinois      12882135  149995   85.883763"
      ]
     },
     "execution_count": 161,
     "metadata": {},
     "output_type": "execute_result"
    }
   ],
   "source": [
    "states_with_density = states.assign(\n",
    "    density=lambda df: df['population'] / df['area']\n",
    ")\n",
    "states_with_density"
   ]
  },
  {
   "cell_type": "markdown",
   "id": "58ba9d45-a8f0-4e50-95bd-daaa0eb302bd",
   "metadata": {},
   "source": [
    "### Apply function"
   ]
  },
  {
   "cell_type": "code",
   "execution_count": 16,
   "id": "2a076aa9-0e81-434f-adb6-ea0b18aba9ac",
   "metadata": {},
   "outputs": [
    {
     "data": {
      "text/html": [
       "<div>\n",
       "<style scoped>\n",
       "    .dataframe tbody tr th:only-of-type {\n",
       "        vertical-align: middle;\n",
       "    }\n",
       "\n",
       "    .dataframe tbody tr th {\n",
       "        vertical-align: top;\n",
       "    }\n",
       "\n",
       "    .dataframe thead th {\n",
       "        text-align: right;\n",
       "    }\n",
       "</style>\n",
       "<table border=\"1\" class=\"dataframe\">\n",
       "  <thead>\n",
       "    <tr style=\"text-align: right;\">\n",
       "      <th></th>\n",
       "      <th>population</th>\n",
       "      <th>area</th>\n",
       "      <th>area_km</th>\n",
       "    </tr>\n",
       "  </thead>\n",
       "  <tbody>\n",
       "    <tr>\n",
       "      <th>California</th>\n",
       "      <td>38332521</td>\n",
       "      <td>423967</td>\n",
       "      <td>423.967</td>\n",
       "    </tr>\n",
       "    <tr>\n",
       "      <th>Texas</th>\n",
       "      <td>26448193</td>\n",
       "      <td>695662</td>\n",
       "      <td>695.662</td>\n",
       "    </tr>\n",
       "    <tr>\n",
       "      <th>New York</th>\n",
       "      <td>19651127</td>\n",
       "      <td>141297</td>\n",
       "      <td>141.297</td>\n",
       "    </tr>\n",
       "    <tr>\n",
       "      <th>Florida</th>\n",
       "      <td>19552860</td>\n",
       "      <td>170312</td>\n",
       "      <td>170.312</td>\n",
       "    </tr>\n",
       "    <tr>\n",
       "      <th>Illinois</th>\n",
       "      <td>12882135</td>\n",
       "      <td>149995</td>\n",
       "      <td>149.995</td>\n",
       "    </tr>\n",
       "  </tbody>\n",
       "</table>\n",
       "</div>"
      ],
      "text/plain": [
       "            population    area  area_km\n",
       "California    38332521  423967  423.967\n",
       "Texas         26448193  695662  695.662\n",
       "New York      19651127  141297  141.297\n",
       "Florida       19552860  170312  170.312\n",
       "Illinois      12882135  149995  149.995"
      ]
     },
     "execution_count": 16,
     "metadata": {},
     "output_type": "execute_result"
    }
   ],
   "source": [
    "states.assign(\n",
    "    area_km=lambda df: df['area'].apply(lambda x: x/1000)\n",
    ")"
   ]
  },
  {
   "cell_type": "markdown",
   "id": "85ba2e4a-633e-42f7-84f8-bbf76de4c289",
   "metadata": {},
   "source": [
    "### Index allignment"
   ]
  },
  {
   "cell_type": "code",
   "execution_count": 163,
   "id": "41059dd6-7d83-45cc-b537-0ef26d7e2647",
   "metadata": {},
   "outputs": [
    {
     "data": {
      "text/plain": [
       "0    NaN\n",
       "1    5.0\n",
       "2    9.0\n",
       "3    NaN\n",
       "dtype: float64"
      ]
     },
     "execution_count": 163,
     "metadata": {},
     "output_type": "execute_result"
    }
   ],
   "source": [
    "A = pd.Series([2, 4, 6], index=[0, 1, 2])\n",
    "B = pd.Series([1, 3, 5], index=[1, 2, 3])\n",
    "A + B"
   ]
  },
  {
   "cell_type": "code",
   "execution_count": 164,
   "id": "373399ef-81cb-4cb4-9320-97cf6b2dd8ac",
   "metadata": {},
   "outputs": [
    {
     "data": {
      "text/plain": [
       "0    2.0\n",
       "1    5.0\n",
       "2    9.0\n",
       "3    5.0\n",
       "dtype: float64"
      ]
     },
     "execution_count": 164,
     "metadata": {},
     "output_type": "execute_result"
    }
   ],
   "source": [
    "A.add(B, fill_value=0)"
   ]
  },
  {
   "cell_type": "markdown",
   "id": "41810e5a-8aad-4b93-b4c7-e8b5528c1385",
   "metadata": {},
   "source": [
    "### Combining datasets"
   ]
  },
  {
   "cell_type": "code",
   "execution_count": 188,
   "id": "408981b8-0cdd-4b92-8722-cd96bf5070d6",
   "metadata": {},
   "outputs": [],
   "source": [
    "from IPython.display import display_html\n",
    "from itertools import chain,cycle\n",
    "\n",
    "def display_dfs(dfs: list, captions: list, tablespacing=5):\n",
    "    output = \"\"\n",
    "    for (caption, df) in zip(captions, dfs):\n",
    "        output += (\n",
    "            df\n",
    "            .style.set_table_attributes(\"style='display:inline'\")\n",
    "            .set_caption(caption)._repr_html_()\n",
    "        )\n",
    "        output += tablespacing * \"\\xa0\"\n",
    "    display(HTML(output))\n",
    "\n",
    "def desplay_df_expr(*args):\n",
    "    display_dfs([eval(expr) for expr in args], [expr for expr in args])\n",
    "    \n",
    "def make_df(cols, indices):\n",
    "    data = {\n",
    "        col: [f\"{col}{i}\" for i in indices]\n",
    "        for col in cols\n",
    "    }\n",
    "    return pd.DataFrame(data, indices)\n"
   ]
  },
  {
   "cell_type": "markdown",
   "id": "fbe5a62f-234a-48bf-bde2-4e2494229f3a",
   "metadata": {},
   "source": [
    "#### Concatination"
   ]
  },
  {
   "cell_type": "code",
   "execution_count": 191,
   "id": "0b6127c1-90e6-4d77-9e31-5b2fce7a17dd",
   "metadata": {},
   "outputs": [
    {
     "data": {
      "text/html": [
       "<style type=\"text/css\">\n",
       "</style>\n",
       "<table id=\"T_d4bfb\" style='display:inline'>\n",
       "  <caption>df1</caption>\n",
       "  <thead>\n",
       "    <tr>\n",
       "      <th class=\"blank level0\" >&nbsp;</th>\n",
       "      <th id=\"T_d4bfb_level0_col0\" class=\"col_heading level0 col0\" >A</th>\n",
       "      <th id=\"T_d4bfb_level0_col1\" class=\"col_heading level0 col1\" >B</th>\n",
       "    </tr>\n",
       "  </thead>\n",
       "  <tbody>\n",
       "    <tr>\n",
       "      <th id=\"T_d4bfb_level0_row0\" class=\"row_heading level0 row0\" >0</th>\n",
       "      <td id=\"T_d4bfb_row0_col0\" class=\"data row0 col0\" >A0</td>\n",
       "      <td id=\"T_d4bfb_row0_col1\" class=\"data row0 col1\" >B0</td>\n",
       "    </tr>\n",
       "    <tr>\n",
       "      <th id=\"T_d4bfb_level0_row1\" class=\"row_heading level0 row1\" >1</th>\n",
       "      <td id=\"T_d4bfb_row1_col0\" class=\"data row1 col0\" >A1</td>\n",
       "      <td id=\"T_d4bfb_row1_col1\" class=\"data row1 col1\" >B1</td>\n",
       "    </tr>\n",
       "    <tr>\n",
       "      <th id=\"T_d4bfb_level0_row2\" class=\"row_heading level0 row2\" >2</th>\n",
       "      <td id=\"T_d4bfb_row2_col0\" class=\"data row2 col0\" >A2</td>\n",
       "      <td id=\"T_d4bfb_row2_col1\" class=\"data row2 col1\" >B2</td>\n",
       "    </tr>\n",
       "  </tbody>\n",
       "</table>\n",
       "     <style type=\"text/css\">\n",
       "</style>\n",
       "<table id=\"T_1a98f\" style='display:inline'>\n",
       "  <caption>df2</caption>\n",
       "  <thead>\n",
       "    <tr>\n",
       "      <th class=\"blank level0\" >&nbsp;</th>\n",
       "      <th id=\"T_1a98f_level0_col0\" class=\"col_heading level0 col0\" >A</th>\n",
       "      <th id=\"T_1a98f_level0_col1\" class=\"col_heading level0 col1\" >B</th>\n",
       "    </tr>\n",
       "  </thead>\n",
       "  <tbody>\n",
       "    <tr>\n",
       "      <th id=\"T_1a98f_level0_row0\" class=\"row_heading level0 row0\" >3</th>\n",
       "      <td id=\"T_1a98f_row0_col0\" class=\"data row0 col0\" >A3</td>\n",
       "      <td id=\"T_1a98f_row0_col1\" class=\"data row0 col1\" >B3</td>\n",
       "    </tr>\n",
       "    <tr>\n",
       "      <th id=\"T_1a98f_level0_row1\" class=\"row_heading level0 row1\" >4</th>\n",
       "      <td id=\"T_1a98f_row1_col0\" class=\"data row1 col0\" >A4</td>\n",
       "      <td id=\"T_1a98f_row1_col1\" class=\"data row1 col1\" >B4</td>\n",
       "    </tr>\n",
       "  </tbody>\n",
       "</table>\n",
       "     <style type=\"text/css\">\n",
       "</style>\n",
       "<table id=\"T_a1f51\" style='display:inline'>\n",
       "  <caption>pd.concat([df1, df2])</caption>\n",
       "  <thead>\n",
       "    <tr>\n",
       "      <th class=\"blank level0\" >&nbsp;</th>\n",
       "      <th id=\"T_a1f51_level0_col0\" class=\"col_heading level0 col0\" >A</th>\n",
       "      <th id=\"T_a1f51_level0_col1\" class=\"col_heading level0 col1\" >B</th>\n",
       "    </tr>\n",
       "  </thead>\n",
       "  <tbody>\n",
       "    <tr>\n",
       "      <th id=\"T_a1f51_level0_row0\" class=\"row_heading level0 row0\" >0</th>\n",
       "      <td id=\"T_a1f51_row0_col0\" class=\"data row0 col0\" >A0</td>\n",
       "      <td id=\"T_a1f51_row0_col1\" class=\"data row0 col1\" >B0</td>\n",
       "    </tr>\n",
       "    <tr>\n",
       "      <th id=\"T_a1f51_level0_row1\" class=\"row_heading level0 row1\" >1</th>\n",
       "      <td id=\"T_a1f51_row1_col0\" class=\"data row1 col0\" >A1</td>\n",
       "      <td id=\"T_a1f51_row1_col1\" class=\"data row1 col1\" >B1</td>\n",
       "    </tr>\n",
       "    <tr>\n",
       "      <th id=\"T_a1f51_level0_row2\" class=\"row_heading level0 row2\" >2</th>\n",
       "      <td id=\"T_a1f51_row2_col0\" class=\"data row2 col0\" >A2</td>\n",
       "      <td id=\"T_a1f51_row2_col1\" class=\"data row2 col1\" >B2</td>\n",
       "    </tr>\n",
       "    <tr>\n",
       "      <th id=\"T_a1f51_level0_row3\" class=\"row_heading level0 row3\" >3</th>\n",
       "      <td id=\"T_a1f51_row3_col0\" class=\"data row3 col0\" >A3</td>\n",
       "      <td id=\"T_a1f51_row3_col1\" class=\"data row3 col1\" >B3</td>\n",
       "    </tr>\n",
       "    <tr>\n",
       "      <th id=\"T_a1f51_level0_row4\" class=\"row_heading level0 row4\" >4</th>\n",
       "      <td id=\"T_a1f51_row4_col0\" class=\"data row4 col0\" >A4</td>\n",
       "      <td id=\"T_a1f51_row4_col1\" class=\"data row4 col1\" >B4</td>\n",
       "    </tr>\n",
       "  </tbody>\n",
       "</table>\n",
       "     "
      ],
      "text/plain": [
       "<IPython.core.display.HTML object>"
      ]
     },
     "metadata": {},
     "output_type": "display_data"
    },
    {
     "data": {
      "text/html": [
       "<style type=\"text/css\">\n",
       "</style>\n",
       "<table id=\"T_7a4a7\" style='display:inline'>\n",
       "  <caption>df1</caption>\n",
       "  <thead>\n",
       "    <tr>\n",
       "      <th class=\"blank level0\" >&nbsp;</th>\n",
       "      <th id=\"T_7a4a7_level0_col0\" class=\"col_heading level0 col0\" >A</th>\n",
       "      <th id=\"T_7a4a7_level0_col1\" class=\"col_heading level0 col1\" >B</th>\n",
       "    </tr>\n",
       "  </thead>\n",
       "  <tbody>\n",
       "    <tr>\n",
       "      <th id=\"T_7a4a7_level0_row0\" class=\"row_heading level0 row0\" >0</th>\n",
       "      <td id=\"T_7a4a7_row0_col0\" class=\"data row0 col0\" >A0</td>\n",
       "      <td id=\"T_7a4a7_row0_col1\" class=\"data row0 col1\" >B0</td>\n",
       "    </tr>\n",
       "    <tr>\n",
       "      <th id=\"T_7a4a7_level0_row1\" class=\"row_heading level0 row1\" >1</th>\n",
       "      <td id=\"T_7a4a7_row1_col0\" class=\"data row1 col0\" >A1</td>\n",
       "      <td id=\"T_7a4a7_row1_col1\" class=\"data row1 col1\" >B1</td>\n",
       "    </tr>\n",
       "    <tr>\n",
       "      <th id=\"T_7a4a7_level0_row2\" class=\"row_heading level0 row2\" >2</th>\n",
       "      <td id=\"T_7a4a7_row2_col0\" class=\"data row2 col0\" >A2</td>\n",
       "      <td id=\"T_7a4a7_row2_col1\" class=\"data row2 col1\" >B2</td>\n",
       "    </tr>\n",
       "  </tbody>\n",
       "</table>\n",
       "     <style type=\"text/css\">\n",
       "</style>\n",
       "<table id=\"T_eee54\" style='display:inline'>\n",
       "  <caption>df2</caption>\n",
       "  <thead>\n",
       "    <tr>\n",
       "      <th class=\"blank level0\" >&nbsp;</th>\n",
       "      <th id=\"T_eee54_level0_col0\" class=\"col_heading level0 col0\" >A</th>\n",
       "      <th id=\"T_eee54_level0_col1\" class=\"col_heading level0 col1\" >B</th>\n",
       "    </tr>\n",
       "  </thead>\n",
       "  <tbody>\n",
       "    <tr>\n",
       "      <th id=\"T_eee54_level0_row0\" class=\"row_heading level0 row0\" >3</th>\n",
       "      <td id=\"T_eee54_row0_col0\" class=\"data row0 col0\" >A3</td>\n",
       "      <td id=\"T_eee54_row0_col1\" class=\"data row0 col1\" >B3</td>\n",
       "    </tr>\n",
       "    <tr>\n",
       "      <th id=\"T_eee54_level0_row1\" class=\"row_heading level0 row1\" >4</th>\n",
       "      <td id=\"T_eee54_row1_col0\" class=\"data row1 col0\" >A4</td>\n",
       "      <td id=\"T_eee54_row1_col1\" class=\"data row1 col1\" >B4</td>\n",
       "    </tr>\n",
       "  </tbody>\n",
       "</table>\n",
       "     <style type=\"text/css\">\n",
       "</style>\n",
       "<table id=\"T_7b3be\" style='display:inline'>\n",
       "  <caption>pd.concat([df1, df2], axis=1)</caption>\n",
       "  <thead>\n",
       "    <tr>\n",
       "      <th class=\"blank level0\" >&nbsp;</th>\n",
       "      <th id=\"T_7b3be_level0_col0\" class=\"col_heading level0 col0\" >A</th>\n",
       "      <th id=\"T_7b3be_level0_col1\" class=\"col_heading level0 col1\" >B</th>\n",
       "      <th id=\"T_7b3be_level0_col2\" class=\"col_heading level0 col2\" >A</th>\n",
       "      <th id=\"T_7b3be_level0_col3\" class=\"col_heading level0 col3\" >B</th>\n",
       "    </tr>\n",
       "  </thead>\n",
       "  <tbody>\n",
       "    <tr>\n",
       "      <th id=\"T_7b3be_level0_row0\" class=\"row_heading level0 row0\" >0</th>\n",
       "      <td id=\"T_7b3be_row0_col0\" class=\"data row0 col0\" >A0</td>\n",
       "      <td id=\"T_7b3be_row0_col1\" class=\"data row0 col1\" >B0</td>\n",
       "      <td id=\"T_7b3be_row0_col2\" class=\"data row0 col2\" >nan</td>\n",
       "      <td id=\"T_7b3be_row0_col3\" class=\"data row0 col3\" >nan</td>\n",
       "    </tr>\n",
       "    <tr>\n",
       "      <th id=\"T_7b3be_level0_row1\" class=\"row_heading level0 row1\" >1</th>\n",
       "      <td id=\"T_7b3be_row1_col0\" class=\"data row1 col0\" >A1</td>\n",
       "      <td id=\"T_7b3be_row1_col1\" class=\"data row1 col1\" >B1</td>\n",
       "      <td id=\"T_7b3be_row1_col2\" class=\"data row1 col2\" >nan</td>\n",
       "      <td id=\"T_7b3be_row1_col3\" class=\"data row1 col3\" >nan</td>\n",
       "    </tr>\n",
       "    <tr>\n",
       "      <th id=\"T_7b3be_level0_row2\" class=\"row_heading level0 row2\" >2</th>\n",
       "      <td id=\"T_7b3be_row2_col0\" class=\"data row2 col0\" >A2</td>\n",
       "      <td id=\"T_7b3be_row2_col1\" class=\"data row2 col1\" >B2</td>\n",
       "      <td id=\"T_7b3be_row2_col2\" class=\"data row2 col2\" >nan</td>\n",
       "      <td id=\"T_7b3be_row2_col3\" class=\"data row2 col3\" >nan</td>\n",
       "    </tr>\n",
       "    <tr>\n",
       "      <th id=\"T_7b3be_level0_row3\" class=\"row_heading level0 row3\" >3</th>\n",
       "      <td id=\"T_7b3be_row3_col0\" class=\"data row3 col0\" >nan</td>\n",
       "      <td id=\"T_7b3be_row3_col1\" class=\"data row3 col1\" >nan</td>\n",
       "      <td id=\"T_7b3be_row3_col2\" class=\"data row3 col2\" >A3</td>\n",
       "      <td id=\"T_7b3be_row3_col3\" class=\"data row3 col3\" >B3</td>\n",
       "    </tr>\n",
       "    <tr>\n",
       "      <th id=\"T_7b3be_level0_row4\" class=\"row_heading level0 row4\" >4</th>\n",
       "      <td id=\"T_7b3be_row4_col0\" class=\"data row4 col0\" >nan</td>\n",
       "      <td id=\"T_7b3be_row4_col1\" class=\"data row4 col1\" >nan</td>\n",
       "      <td id=\"T_7b3be_row4_col2\" class=\"data row4 col2\" >A4</td>\n",
       "      <td id=\"T_7b3be_row4_col3\" class=\"data row4 col3\" >B4</td>\n",
       "    </tr>\n",
       "  </tbody>\n",
       "</table>\n",
       "     "
      ],
      "text/plain": [
       "<IPython.core.display.HTML object>"
      ]
     },
     "metadata": {},
     "output_type": "display_data"
    }
   ],
   "source": [
    "df1 = make_df('AB', [0, 1, 2])\n",
    "df2 = make_df('AB', [3, 4])\n",
    "desplay_df_expr('df1', 'df2', 'pd.concat([df1, df2])')\n",
    "desplay_df_expr('df1', 'df2', 'pd.concat([df1, df2], axis=1)')"
   ]
  },
  {
   "cell_type": "markdown",
   "id": "2f18d1fa-ca9e-44c8-9603-df42664cda7f",
   "metadata": {},
   "source": [
    "#### Joins"
   ]
  },
  {
   "cell_type": "markdown",
   "id": "2f63ced0-a7d6-4a15-82ca-ab68cd410457",
   "metadata": {},
   "source": [
    "![image info](./imgs/joins.png)"
   ]
  },
  {
   "cell_type": "code",
   "execution_count": 204,
   "id": "73e0d715-1c04-4eb1-96db-7dc9af3f7304",
   "metadata": {},
   "outputs": [],
   "source": [
    "df1 = make_df(\"AB\", [0, 1, 2])\n",
    "df2 = make_df(\"AC\", [1, 2, 3, 4])"
   ]
  },
  {
   "cell_type": "code",
   "execution_count": 205,
   "id": "1b16ba4a-538c-4fc7-98c8-f29ef5055e2b",
   "metadata": {},
   "outputs": [
    {
     "data": {
      "text/html": [
       "<style type=\"text/css\">\n",
       "</style>\n",
       "<table id=\"T_e023c\" style='display:inline'>\n",
       "  <caption>df1</caption>\n",
       "  <thead>\n",
       "    <tr>\n",
       "      <th class=\"blank level0\" >&nbsp;</th>\n",
       "      <th id=\"T_e023c_level0_col0\" class=\"col_heading level0 col0\" >A</th>\n",
       "      <th id=\"T_e023c_level0_col1\" class=\"col_heading level0 col1\" >B</th>\n",
       "    </tr>\n",
       "  </thead>\n",
       "  <tbody>\n",
       "    <tr>\n",
       "      <th id=\"T_e023c_level0_row0\" class=\"row_heading level0 row0\" >0</th>\n",
       "      <td id=\"T_e023c_row0_col0\" class=\"data row0 col0\" >A0</td>\n",
       "      <td id=\"T_e023c_row0_col1\" class=\"data row0 col1\" >B0</td>\n",
       "    </tr>\n",
       "    <tr>\n",
       "      <th id=\"T_e023c_level0_row1\" class=\"row_heading level0 row1\" >1</th>\n",
       "      <td id=\"T_e023c_row1_col0\" class=\"data row1 col0\" >A1</td>\n",
       "      <td id=\"T_e023c_row1_col1\" class=\"data row1 col1\" >B1</td>\n",
       "    </tr>\n",
       "    <tr>\n",
       "      <th id=\"T_e023c_level0_row2\" class=\"row_heading level0 row2\" >2</th>\n",
       "      <td id=\"T_e023c_row2_col0\" class=\"data row2 col0\" >A2</td>\n",
       "      <td id=\"T_e023c_row2_col1\" class=\"data row2 col1\" >B2</td>\n",
       "    </tr>\n",
       "  </tbody>\n",
       "</table>\n",
       "     <style type=\"text/css\">\n",
       "</style>\n",
       "<table id=\"T_f2174\" style='display:inline'>\n",
       "  <caption>df2</caption>\n",
       "  <thead>\n",
       "    <tr>\n",
       "      <th class=\"blank level0\" >&nbsp;</th>\n",
       "      <th id=\"T_f2174_level0_col0\" class=\"col_heading level0 col0\" >A</th>\n",
       "      <th id=\"T_f2174_level0_col1\" class=\"col_heading level0 col1\" >C</th>\n",
       "    </tr>\n",
       "  </thead>\n",
       "  <tbody>\n",
       "    <tr>\n",
       "      <th id=\"T_f2174_level0_row0\" class=\"row_heading level0 row0\" >1</th>\n",
       "      <td id=\"T_f2174_row0_col0\" class=\"data row0 col0\" >A1</td>\n",
       "      <td id=\"T_f2174_row0_col1\" class=\"data row0 col1\" >C1</td>\n",
       "    </tr>\n",
       "    <tr>\n",
       "      <th id=\"T_f2174_level0_row1\" class=\"row_heading level0 row1\" >2</th>\n",
       "      <td id=\"T_f2174_row1_col0\" class=\"data row1 col0\" >A2</td>\n",
       "      <td id=\"T_f2174_row1_col1\" class=\"data row1 col1\" >C2</td>\n",
       "    </tr>\n",
       "    <tr>\n",
       "      <th id=\"T_f2174_level0_row2\" class=\"row_heading level0 row2\" >3</th>\n",
       "      <td id=\"T_f2174_row2_col0\" class=\"data row2 col0\" >A3</td>\n",
       "      <td id=\"T_f2174_row2_col1\" class=\"data row2 col1\" >C3</td>\n",
       "    </tr>\n",
       "    <tr>\n",
       "      <th id=\"T_f2174_level0_row3\" class=\"row_heading level0 row3\" >4</th>\n",
       "      <td id=\"T_f2174_row3_col0\" class=\"data row3 col0\" >A4</td>\n",
       "      <td id=\"T_f2174_row3_col1\" class=\"data row3 col1\" >C4</td>\n",
       "    </tr>\n",
       "  </tbody>\n",
       "</table>\n",
       "     <style type=\"text/css\">\n",
       "</style>\n",
       "<table id=\"T_6ea18\" style='display:inline'>\n",
       "  <caption>pd.merge(df1, df2, on=\"A\", how=\"outer\")</caption>\n",
       "  <thead>\n",
       "    <tr>\n",
       "      <th class=\"blank level0\" >&nbsp;</th>\n",
       "      <th id=\"T_6ea18_level0_col0\" class=\"col_heading level0 col0\" >A</th>\n",
       "      <th id=\"T_6ea18_level0_col1\" class=\"col_heading level0 col1\" >B</th>\n",
       "      <th id=\"T_6ea18_level0_col2\" class=\"col_heading level0 col2\" >C</th>\n",
       "    </tr>\n",
       "  </thead>\n",
       "  <tbody>\n",
       "    <tr>\n",
       "      <th id=\"T_6ea18_level0_row0\" class=\"row_heading level0 row0\" >0</th>\n",
       "      <td id=\"T_6ea18_row0_col0\" class=\"data row0 col0\" >A0</td>\n",
       "      <td id=\"T_6ea18_row0_col1\" class=\"data row0 col1\" >B0</td>\n",
       "      <td id=\"T_6ea18_row0_col2\" class=\"data row0 col2\" >nan</td>\n",
       "    </tr>\n",
       "    <tr>\n",
       "      <th id=\"T_6ea18_level0_row1\" class=\"row_heading level0 row1\" >1</th>\n",
       "      <td id=\"T_6ea18_row1_col0\" class=\"data row1 col0\" >A1</td>\n",
       "      <td id=\"T_6ea18_row1_col1\" class=\"data row1 col1\" >B1</td>\n",
       "      <td id=\"T_6ea18_row1_col2\" class=\"data row1 col2\" >C1</td>\n",
       "    </tr>\n",
       "    <tr>\n",
       "      <th id=\"T_6ea18_level0_row2\" class=\"row_heading level0 row2\" >2</th>\n",
       "      <td id=\"T_6ea18_row2_col0\" class=\"data row2 col0\" >A2</td>\n",
       "      <td id=\"T_6ea18_row2_col1\" class=\"data row2 col1\" >B2</td>\n",
       "      <td id=\"T_6ea18_row2_col2\" class=\"data row2 col2\" >C2</td>\n",
       "    </tr>\n",
       "    <tr>\n",
       "      <th id=\"T_6ea18_level0_row3\" class=\"row_heading level0 row3\" >3</th>\n",
       "      <td id=\"T_6ea18_row3_col0\" class=\"data row3 col0\" >A3</td>\n",
       "      <td id=\"T_6ea18_row3_col1\" class=\"data row3 col1\" >nan</td>\n",
       "      <td id=\"T_6ea18_row3_col2\" class=\"data row3 col2\" >C3</td>\n",
       "    </tr>\n",
       "    <tr>\n",
       "      <th id=\"T_6ea18_level0_row4\" class=\"row_heading level0 row4\" >4</th>\n",
       "      <td id=\"T_6ea18_row4_col0\" class=\"data row4 col0\" >A4</td>\n",
       "      <td id=\"T_6ea18_row4_col1\" class=\"data row4 col1\" >nan</td>\n",
       "      <td id=\"T_6ea18_row4_col2\" class=\"data row4 col2\" >C4</td>\n",
       "    </tr>\n",
       "  </tbody>\n",
       "</table>\n",
       "     "
      ],
      "text/plain": [
       "<IPython.core.display.HTML object>"
      ]
     },
     "metadata": {},
     "output_type": "display_data"
    }
   ],
   "source": [
    "desplay_df_expr('df1', 'df2', 'pd.merge(df1, df2, on=\"A\", how=\"outer\")')"
   ]
  },
  {
   "cell_type": "code",
   "execution_count": 206,
   "id": "74af35ca-c77d-4071-bf73-18980e222bd5",
   "metadata": {},
   "outputs": [
    {
     "data": {
      "text/html": [
       "<style type=\"text/css\">\n",
       "</style>\n",
       "<table id=\"T_7ed93\" style='display:inline'>\n",
       "  <caption>df1</caption>\n",
       "  <thead>\n",
       "    <tr>\n",
       "      <th class=\"blank level0\" >&nbsp;</th>\n",
       "      <th id=\"T_7ed93_level0_col0\" class=\"col_heading level0 col0\" >A</th>\n",
       "      <th id=\"T_7ed93_level0_col1\" class=\"col_heading level0 col1\" >B</th>\n",
       "    </tr>\n",
       "  </thead>\n",
       "  <tbody>\n",
       "    <tr>\n",
       "      <th id=\"T_7ed93_level0_row0\" class=\"row_heading level0 row0\" >0</th>\n",
       "      <td id=\"T_7ed93_row0_col0\" class=\"data row0 col0\" >A0</td>\n",
       "      <td id=\"T_7ed93_row0_col1\" class=\"data row0 col1\" >B0</td>\n",
       "    </tr>\n",
       "    <tr>\n",
       "      <th id=\"T_7ed93_level0_row1\" class=\"row_heading level0 row1\" >1</th>\n",
       "      <td id=\"T_7ed93_row1_col0\" class=\"data row1 col0\" >A1</td>\n",
       "      <td id=\"T_7ed93_row1_col1\" class=\"data row1 col1\" >B1</td>\n",
       "    </tr>\n",
       "    <tr>\n",
       "      <th id=\"T_7ed93_level0_row2\" class=\"row_heading level0 row2\" >2</th>\n",
       "      <td id=\"T_7ed93_row2_col0\" class=\"data row2 col0\" >A2</td>\n",
       "      <td id=\"T_7ed93_row2_col1\" class=\"data row2 col1\" >B2</td>\n",
       "    </tr>\n",
       "  </tbody>\n",
       "</table>\n",
       "     <style type=\"text/css\">\n",
       "</style>\n",
       "<table id=\"T_73733\" style='display:inline'>\n",
       "  <caption>df2</caption>\n",
       "  <thead>\n",
       "    <tr>\n",
       "      <th class=\"blank level0\" >&nbsp;</th>\n",
       "      <th id=\"T_73733_level0_col0\" class=\"col_heading level0 col0\" >A</th>\n",
       "      <th id=\"T_73733_level0_col1\" class=\"col_heading level0 col1\" >C</th>\n",
       "    </tr>\n",
       "  </thead>\n",
       "  <tbody>\n",
       "    <tr>\n",
       "      <th id=\"T_73733_level0_row0\" class=\"row_heading level0 row0\" >1</th>\n",
       "      <td id=\"T_73733_row0_col0\" class=\"data row0 col0\" >A1</td>\n",
       "      <td id=\"T_73733_row0_col1\" class=\"data row0 col1\" >C1</td>\n",
       "    </tr>\n",
       "    <tr>\n",
       "      <th id=\"T_73733_level0_row1\" class=\"row_heading level0 row1\" >2</th>\n",
       "      <td id=\"T_73733_row1_col0\" class=\"data row1 col0\" >A2</td>\n",
       "      <td id=\"T_73733_row1_col1\" class=\"data row1 col1\" >C2</td>\n",
       "    </tr>\n",
       "    <tr>\n",
       "      <th id=\"T_73733_level0_row2\" class=\"row_heading level0 row2\" >3</th>\n",
       "      <td id=\"T_73733_row2_col0\" class=\"data row2 col0\" >A3</td>\n",
       "      <td id=\"T_73733_row2_col1\" class=\"data row2 col1\" >C3</td>\n",
       "    </tr>\n",
       "    <tr>\n",
       "      <th id=\"T_73733_level0_row3\" class=\"row_heading level0 row3\" >4</th>\n",
       "      <td id=\"T_73733_row3_col0\" class=\"data row3 col0\" >A4</td>\n",
       "      <td id=\"T_73733_row3_col1\" class=\"data row3 col1\" >C4</td>\n",
       "    </tr>\n",
       "  </tbody>\n",
       "</table>\n",
       "     <style type=\"text/css\">\n",
       "</style>\n",
       "<table id=\"T_c9e21\" style='display:inline'>\n",
       "  <caption>pd.merge(df1, df2, on=\"A\", how=\"right\")</caption>\n",
       "  <thead>\n",
       "    <tr>\n",
       "      <th class=\"blank level0\" >&nbsp;</th>\n",
       "      <th id=\"T_c9e21_level0_col0\" class=\"col_heading level0 col0\" >A</th>\n",
       "      <th id=\"T_c9e21_level0_col1\" class=\"col_heading level0 col1\" >B</th>\n",
       "      <th id=\"T_c9e21_level0_col2\" class=\"col_heading level0 col2\" >C</th>\n",
       "    </tr>\n",
       "  </thead>\n",
       "  <tbody>\n",
       "    <tr>\n",
       "      <th id=\"T_c9e21_level0_row0\" class=\"row_heading level0 row0\" >0</th>\n",
       "      <td id=\"T_c9e21_row0_col0\" class=\"data row0 col0\" >A1</td>\n",
       "      <td id=\"T_c9e21_row0_col1\" class=\"data row0 col1\" >B1</td>\n",
       "      <td id=\"T_c9e21_row0_col2\" class=\"data row0 col2\" >C1</td>\n",
       "    </tr>\n",
       "    <tr>\n",
       "      <th id=\"T_c9e21_level0_row1\" class=\"row_heading level0 row1\" >1</th>\n",
       "      <td id=\"T_c9e21_row1_col0\" class=\"data row1 col0\" >A2</td>\n",
       "      <td id=\"T_c9e21_row1_col1\" class=\"data row1 col1\" >B2</td>\n",
       "      <td id=\"T_c9e21_row1_col2\" class=\"data row1 col2\" >C2</td>\n",
       "    </tr>\n",
       "    <tr>\n",
       "      <th id=\"T_c9e21_level0_row2\" class=\"row_heading level0 row2\" >2</th>\n",
       "      <td id=\"T_c9e21_row2_col0\" class=\"data row2 col0\" >A3</td>\n",
       "      <td id=\"T_c9e21_row2_col1\" class=\"data row2 col1\" >nan</td>\n",
       "      <td id=\"T_c9e21_row2_col2\" class=\"data row2 col2\" >C3</td>\n",
       "    </tr>\n",
       "    <tr>\n",
       "      <th id=\"T_c9e21_level0_row3\" class=\"row_heading level0 row3\" >3</th>\n",
       "      <td id=\"T_c9e21_row3_col0\" class=\"data row3 col0\" >A4</td>\n",
       "      <td id=\"T_c9e21_row3_col1\" class=\"data row3 col1\" >nan</td>\n",
       "      <td id=\"T_c9e21_row3_col2\" class=\"data row3 col2\" >C4</td>\n",
       "    </tr>\n",
       "  </tbody>\n",
       "</table>\n",
       "     "
      ],
      "text/plain": [
       "<IPython.core.display.HTML object>"
      ]
     },
     "metadata": {},
     "output_type": "display_data"
    }
   ],
   "source": [
    "desplay_df_expr('df1', 'df2', 'pd.merge(df1, df2, on=\"A\", how=\"right\")')"
   ]
  },
  {
   "cell_type": "code",
   "execution_count": 207,
   "id": "88dbeed9-5d65-42fd-bc5a-718c02328578",
   "metadata": {},
   "outputs": [
    {
     "data": {
      "text/html": [
       "<style type=\"text/css\">\n",
       "</style>\n",
       "<table id=\"T_caf96\" style='display:inline'>\n",
       "  <caption>df1</caption>\n",
       "  <thead>\n",
       "    <tr>\n",
       "      <th class=\"blank level0\" >&nbsp;</th>\n",
       "      <th id=\"T_caf96_level0_col0\" class=\"col_heading level0 col0\" >A</th>\n",
       "      <th id=\"T_caf96_level0_col1\" class=\"col_heading level0 col1\" >B</th>\n",
       "    </tr>\n",
       "  </thead>\n",
       "  <tbody>\n",
       "    <tr>\n",
       "      <th id=\"T_caf96_level0_row0\" class=\"row_heading level0 row0\" >0</th>\n",
       "      <td id=\"T_caf96_row0_col0\" class=\"data row0 col0\" >A0</td>\n",
       "      <td id=\"T_caf96_row0_col1\" class=\"data row0 col1\" >B0</td>\n",
       "    </tr>\n",
       "    <tr>\n",
       "      <th id=\"T_caf96_level0_row1\" class=\"row_heading level0 row1\" >1</th>\n",
       "      <td id=\"T_caf96_row1_col0\" class=\"data row1 col0\" >A1</td>\n",
       "      <td id=\"T_caf96_row1_col1\" class=\"data row1 col1\" >B1</td>\n",
       "    </tr>\n",
       "    <tr>\n",
       "      <th id=\"T_caf96_level0_row2\" class=\"row_heading level0 row2\" >2</th>\n",
       "      <td id=\"T_caf96_row2_col0\" class=\"data row2 col0\" >A2</td>\n",
       "      <td id=\"T_caf96_row2_col1\" class=\"data row2 col1\" >B2</td>\n",
       "    </tr>\n",
       "  </tbody>\n",
       "</table>\n",
       "     <style type=\"text/css\">\n",
       "</style>\n",
       "<table id=\"T_abb0c\" style='display:inline'>\n",
       "  <caption>df2</caption>\n",
       "  <thead>\n",
       "    <tr>\n",
       "      <th class=\"blank level0\" >&nbsp;</th>\n",
       "      <th id=\"T_abb0c_level0_col0\" class=\"col_heading level0 col0\" >A</th>\n",
       "      <th id=\"T_abb0c_level0_col1\" class=\"col_heading level0 col1\" >C</th>\n",
       "    </tr>\n",
       "  </thead>\n",
       "  <tbody>\n",
       "    <tr>\n",
       "      <th id=\"T_abb0c_level0_row0\" class=\"row_heading level0 row0\" >1</th>\n",
       "      <td id=\"T_abb0c_row0_col0\" class=\"data row0 col0\" >A1</td>\n",
       "      <td id=\"T_abb0c_row0_col1\" class=\"data row0 col1\" >C1</td>\n",
       "    </tr>\n",
       "    <tr>\n",
       "      <th id=\"T_abb0c_level0_row1\" class=\"row_heading level0 row1\" >2</th>\n",
       "      <td id=\"T_abb0c_row1_col0\" class=\"data row1 col0\" >A2</td>\n",
       "      <td id=\"T_abb0c_row1_col1\" class=\"data row1 col1\" >C2</td>\n",
       "    </tr>\n",
       "    <tr>\n",
       "      <th id=\"T_abb0c_level0_row2\" class=\"row_heading level0 row2\" >3</th>\n",
       "      <td id=\"T_abb0c_row2_col0\" class=\"data row2 col0\" >A3</td>\n",
       "      <td id=\"T_abb0c_row2_col1\" class=\"data row2 col1\" >C3</td>\n",
       "    </tr>\n",
       "    <tr>\n",
       "      <th id=\"T_abb0c_level0_row3\" class=\"row_heading level0 row3\" >4</th>\n",
       "      <td id=\"T_abb0c_row3_col0\" class=\"data row3 col0\" >A4</td>\n",
       "      <td id=\"T_abb0c_row3_col1\" class=\"data row3 col1\" >C4</td>\n",
       "    </tr>\n",
       "  </tbody>\n",
       "</table>\n",
       "     <style type=\"text/css\">\n",
       "</style>\n",
       "<table id=\"T_0878f\" style='display:inline'>\n",
       "  <caption>pd.merge(df1, df2, on=\"A\", how=\"inner\")</caption>\n",
       "  <thead>\n",
       "    <tr>\n",
       "      <th class=\"blank level0\" >&nbsp;</th>\n",
       "      <th id=\"T_0878f_level0_col0\" class=\"col_heading level0 col0\" >A</th>\n",
       "      <th id=\"T_0878f_level0_col1\" class=\"col_heading level0 col1\" >B</th>\n",
       "      <th id=\"T_0878f_level0_col2\" class=\"col_heading level0 col2\" >C</th>\n",
       "    </tr>\n",
       "  </thead>\n",
       "  <tbody>\n",
       "    <tr>\n",
       "      <th id=\"T_0878f_level0_row0\" class=\"row_heading level0 row0\" >0</th>\n",
       "      <td id=\"T_0878f_row0_col0\" class=\"data row0 col0\" >A1</td>\n",
       "      <td id=\"T_0878f_row0_col1\" class=\"data row0 col1\" >B1</td>\n",
       "      <td id=\"T_0878f_row0_col2\" class=\"data row0 col2\" >C1</td>\n",
       "    </tr>\n",
       "    <tr>\n",
       "      <th id=\"T_0878f_level0_row1\" class=\"row_heading level0 row1\" >1</th>\n",
       "      <td id=\"T_0878f_row1_col0\" class=\"data row1 col0\" >A2</td>\n",
       "      <td id=\"T_0878f_row1_col1\" class=\"data row1 col1\" >B2</td>\n",
       "      <td id=\"T_0878f_row1_col2\" class=\"data row1 col2\" >C2</td>\n",
       "    </tr>\n",
       "  </tbody>\n",
       "</table>\n",
       "     "
      ],
      "text/plain": [
       "<IPython.core.display.HTML object>"
      ]
     },
     "metadata": {},
     "output_type": "display_data"
    }
   ],
   "source": [
    "desplay_df_expr('df1', 'df2', 'pd.merge(df1, df2, on=\"A\", how=\"inner\")')"
   ]
  },
  {
   "cell_type": "markdown",
   "id": "5999f373-5a37-467c-a392-0954f0f61257",
   "metadata": {},
   "source": [
    "### Aggregation and grouping"
   ]
  },
  {
   "cell_type": "markdown",
   "id": "9a0263ce-392f-4b3a-bd38-9d6fdd327374",
   "metadata": {},
   "source": [
    "#### 1. Simple aggregation"
   ]
  },
  {
   "cell_type": "code",
   "execution_count": 7,
   "id": "ba6ee7ba-d8fe-4320-a02f-dcb9f1472ed3",
   "metadata": {},
   "outputs": [
    {
     "data": {
      "text/plain": [
       "0    0.374540\n",
       "1    0.950714\n",
       "2    0.731994\n",
       "3    0.598658\n",
       "4    0.156019\n",
       "dtype: float64"
      ]
     },
     "execution_count": 7,
     "metadata": {},
     "output_type": "execute_result"
    }
   ],
   "source": [
    "rng = np.random.RandomState(42)\n",
    "ser = pd.Series(rng.rand(5))\n",
    "ser"
   ]
  },
  {
   "cell_type": "code",
   "execution_count": 6,
   "id": "ee5efa41-73d9-48cf-a109-41bc1db57b99",
   "metadata": {},
   "outputs": [
    {
     "data": {
      "text/plain": [
       "0.5623850983416314"
      ]
     },
     "execution_count": 6,
     "metadata": {},
     "output_type": "execute_result"
    }
   ],
   "source": [
    "ser.mean()"
   ]
  },
  {
   "cell_type": "code",
   "execution_count": 8,
   "id": "28a0c1cc-b15f-4877-a3be-6a3bea81b212",
   "metadata": {},
   "outputs": [
    {
     "data": {
      "text/html": [
       "<div>\n",
       "<style scoped>\n",
       "    .dataframe tbody tr th:only-of-type {\n",
       "        vertical-align: middle;\n",
       "    }\n",
       "\n",
       "    .dataframe tbody tr th {\n",
       "        vertical-align: top;\n",
       "    }\n",
       "\n",
       "    .dataframe thead th {\n",
       "        text-align: right;\n",
       "    }\n",
       "</style>\n",
       "<table border=\"1\" class=\"dataframe\">\n",
       "  <thead>\n",
       "    <tr style=\"text-align: right;\">\n",
       "      <th></th>\n",
       "      <th>A</th>\n",
       "      <th>B</th>\n",
       "    </tr>\n",
       "  </thead>\n",
       "  <tbody>\n",
       "    <tr>\n",
       "      <th>0</th>\n",
       "      <td>0.155995</td>\n",
       "      <td>0.020584</td>\n",
       "    </tr>\n",
       "    <tr>\n",
       "      <th>1</th>\n",
       "      <td>0.058084</td>\n",
       "      <td>0.969910</td>\n",
       "    </tr>\n",
       "    <tr>\n",
       "      <th>2</th>\n",
       "      <td>0.866176</td>\n",
       "      <td>0.832443</td>\n",
       "    </tr>\n",
       "    <tr>\n",
       "      <th>3</th>\n",
       "      <td>0.601115</td>\n",
       "      <td>0.212339</td>\n",
       "    </tr>\n",
       "    <tr>\n",
       "      <th>4</th>\n",
       "      <td>0.708073</td>\n",
       "      <td>0.181825</td>\n",
       "    </tr>\n",
       "  </tbody>\n",
       "</table>\n",
       "</div>"
      ],
      "text/plain": [
       "          A         B\n",
       "0  0.155995  0.020584\n",
       "1  0.058084  0.969910\n",
       "2  0.866176  0.832443\n",
       "3  0.601115  0.212339\n",
       "4  0.708073  0.181825"
      ]
     },
     "execution_count": 8,
     "metadata": {},
     "output_type": "execute_result"
    }
   ],
   "source": [
    "df = pd.DataFrame({\n",
    "    'A': rng.rand(5),\n",
    "    'B': rng.rand(5)\n",
    "})\n",
    "df"
   ]
  },
  {
   "cell_type": "code",
   "execution_count": 9,
   "id": "fd7912f0-e5d4-4bba-93b3-515aa64e256b",
   "metadata": {},
   "outputs": [
    {
     "data": {
      "text/plain": [
       "A    0.477888\n",
       "B    0.443420\n",
       "dtype: float64"
      ]
     },
     "execution_count": 9,
     "metadata": {},
     "output_type": "execute_result"
    }
   ],
   "source": [
    "df.mean()"
   ]
  },
  {
   "cell_type": "markdown",
   "id": "f1c2fea6-aa71-45ba-9e15-4f80b024cbd4",
   "metadata": {},
   "source": [
    "#### 2. Grouping"
   ]
  },
  {
   "cell_type": "markdown",
   "id": "ccc50170-4917-4f4a-8302-237e13a745eb",
   "metadata": {},
   "source": [
    "![image info](./imgs/grouping.png)"
   ]
  },
  {
   "cell_type": "code",
   "execution_count": 19,
   "id": "28253a2c-bc31-4056-b1ba-4165bef8d269",
   "metadata": {},
   "outputs": [
    {
     "data": {
      "text/html": [
       "<div>\n",
       "<style scoped>\n",
       "    .dataframe tbody tr th:only-of-type {\n",
       "        vertical-align: middle;\n",
       "    }\n",
       "\n",
       "    .dataframe tbody tr th {\n",
       "        vertical-align: top;\n",
       "    }\n",
       "\n",
       "    .dataframe thead th {\n",
       "        text-align: right;\n",
       "    }\n",
       "</style>\n",
       "<table border=\"1\" class=\"dataframe\">\n",
       "  <thead>\n",
       "    <tr style=\"text-align: right;\">\n",
       "      <th></th>\n",
       "      <th>key</th>\n",
       "      <th>data</th>\n",
       "    </tr>\n",
       "  </thead>\n",
       "  <tbody>\n",
       "    <tr>\n",
       "      <th>0</th>\n",
       "      <td>A</td>\n",
       "      <td>0</td>\n",
       "    </tr>\n",
       "    <tr>\n",
       "      <th>1</th>\n",
       "      <td>B</td>\n",
       "      <td>1</td>\n",
       "    </tr>\n",
       "    <tr>\n",
       "      <th>2</th>\n",
       "      <td>C</td>\n",
       "      <td>2</td>\n",
       "    </tr>\n",
       "    <tr>\n",
       "      <th>3</th>\n",
       "      <td>A</td>\n",
       "      <td>3</td>\n",
       "    </tr>\n",
       "    <tr>\n",
       "      <th>4</th>\n",
       "      <td>B</td>\n",
       "      <td>4</td>\n",
       "    </tr>\n",
       "    <tr>\n",
       "      <th>5</th>\n",
       "      <td>C</td>\n",
       "      <td>5</td>\n",
       "    </tr>\n",
       "  </tbody>\n",
       "</table>\n",
       "</div>"
      ],
      "text/plain": [
       "  key  data\n",
       "0   A     0\n",
       "1   B     1\n",
       "2   C     2\n",
       "3   A     3\n",
       "4   B     4\n",
       "5   C     5"
      ]
     },
     "execution_count": 19,
     "metadata": {},
     "output_type": "execute_result"
    }
   ],
   "source": [
    "df = pd.DataFrame({'key': ['A', 'B', 'C', 'A', 'B', 'C'],\n",
    "                   'data': range(6)}, columns=['key', 'data'])\n",
    "df"
   ]
  },
  {
   "cell_type": "code",
   "execution_count": 20,
   "id": "bf38e7dd-2750-4cf4-aea1-938c713337b7",
   "metadata": {},
   "outputs": [
    {
     "data": {
      "text/html": [
       "<div>\n",
       "<style scoped>\n",
       "    .dataframe tbody tr th:only-of-type {\n",
       "        vertical-align: middle;\n",
       "    }\n",
       "\n",
       "    .dataframe tbody tr th {\n",
       "        vertical-align: top;\n",
       "    }\n",
       "\n",
       "    .dataframe thead th {\n",
       "        text-align: right;\n",
       "    }\n",
       "</style>\n",
       "<table border=\"1\" class=\"dataframe\">\n",
       "  <thead>\n",
       "    <tr style=\"text-align: right;\">\n",
       "      <th></th>\n",
       "      <th>data</th>\n",
       "    </tr>\n",
       "    <tr>\n",
       "      <th>key</th>\n",
       "      <th></th>\n",
       "    </tr>\n",
       "  </thead>\n",
       "  <tbody>\n",
       "    <tr>\n",
       "      <th>A</th>\n",
       "      <td>3</td>\n",
       "    </tr>\n",
       "    <tr>\n",
       "      <th>B</th>\n",
       "      <td>5</td>\n",
       "    </tr>\n",
       "    <tr>\n",
       "      <th>C</th>\n",
       "      <td>7</td>\n",
       "    </tr>\n",
       "  </tbody>\n",
       "</table>\n",
       "</div>"
      ],
      "text/plain": [
       "     data\n",
       "key      \n",
       "A       3\n",
       "B       5\n",
       "C       7"
      ]
     },
     "execution_count": 20,
     "metadata": {},
     "output_type": "execute_result"
    }
   ],
   "source": [
    "df.groupby('key').sum()"
   ]
  },
  {
   "cell_type": "code",
   "execution_count": 21,
   "id": "e8ccab0c-af6c-4349-a09a-faa239762eda",
   "metadata": {},
   "outputs": [
    {
     "data": {
      "text/html": [
       "<div>\n",
       "<style scoped>\n",
       "    .dataframe tbody tr th:only-of-type {\n",
       "        vertical-align: middle;\n",
       "    }\n",
       "\n",
       "    .dataframe tbody tr th {\n",
       "        vertical-align: top;\n",
       "    }\n",
       "\n",
       "    .dataframe thead th {\n",
       "        text-align: right;\n",
       "    }\n",
       "</style>\n",
       "<table border=\"1\" class=\"dataframe\">\n",
       "  <thead>\n",
       "    <tr style=\"text-align: right;\">\n",
       "      <th></th>\n",
       "      <th>key</th>\n",
       "      <th>data1</th>\n",
       "      <th>data2</th>\n",
       "    </tr>\n",
       "  </thead>\n",
       "  <tbody>\n",
       "    <tr>\n",
       "      <th>0</th>\n",
       "      <td>A</td>\n",
       "      <td>0</td>\n",
       "      <td>5</td>\n",
       "    </tr>\n",
       "    <tr>\n",
       "      <th>1</th>\n",
       "      <td>B</td>\n",
       "      <td>1</td>\n",
       "      <td>0</td>\n",
       "    </tr>\n",
       "    <tr>\n",
       "      <th>2</th>\n",
       "      <td>C</td>\n",
       "      <td>2</td>\n",
       "      <td>3</td>\n",
       "    </tr>\n",
       "    <tr>\n",
       "      <th>3</th>\n",
       "      <td>A</td>\n",
       "      <td>3</td>\n",
       "      <td>3</td>\n",
       "    </tr>\n",
       "    <tr>\n",
       "      <th>4</th>\n",
       "      <td>B</td>\n",
       "      <td>4</td>\n",
       "      <td>7</td>\n",
       "    </tr>\n",
       "    <tr>\n",
       "      <th>5</th>\n",
       "      <td>C</td>\n",
       "      <td>5</td>\n",
       "      <td>9</td>\n",
       "    </tr>\n",
       "  </tbody>\n",
       "</table>\n",
       "</div>"
      ],
      "text/plain": [
       "  key  data1  data2\n",
       "0   A      0      5\n",
       "1   B      1      0\n",
       "2   C      2      3\n",
       "3   A      3      3\n",
       "4   B      4      7\n",
       "5   C      5      9"
      ]
     },
     "execution_count": 21,
     "metadata": {},
     "output_type": "execute_result"
    }
   ],
   "source": [
    "rng = np.random.RandomState(0)\n",
    "df = pd.DataFrame({'key': ['A', 'B', 'C', 'A', 'B', 'C'],\n",
    "                   'data1': range(6),\n",
    "                   'data2': rng.randint(0, 10, 6)},\n",
    "                   columns = ['key', 'data1', 'data2'])\n",
    "df"
   ]
  },
  {
   "cell_type": "code",
   "execution_count": 23,
   "id": "70bf6d71-3941-4cb7-9de5-1a0ba4aa0264",
   "metadata": {},
   "outputs": [
    {
     "data": {
      "text/html": [
       "<div>\n",
       "<style scoped>\n",
       "    .dataframe tbody tr th:only-of-type {\n",
       "        vertical-align: middle;\n",
       "    }\n",
       "\n",
       "    .dataframe tbody tr th {\n",
       "        vertical-align: top;\n",
       "    }\n",
       "\n",
       "    .dataframe thead th {\n",
       "        text-align: right;\n",
       "    }\n",
       "</style>\n",
       "<table border=\"1\" class=\"dataframe\">\n",
       "  <thead>\n",
       "    <tr style=\"text-align: right;\">\n",
       "      <th></th>\n",
       "      <th>data1</th>\n",
       "      <th>data2</th>\n",
       "    </tr>\n",
       "    <tr>\n",
       "      <th>key</th>\n",
       "      <th></th>\n",
       "      <th></th>\n",
       "    </tr>\n",
       "  </thead>\n",
       "  <tbody>\n",
       "    <tr>\n",
       "      <th>A</th>\n",
       "      <td>0</td>\n",
       "      <td>5</td>\n",
       "    </tr>\n",
       "    <tr>\n",
       "      <th>B</th>\n",
       "      <td>1</td>\n",
       "      <td>7</td>\n",
       "    </tr>\n",
       "    <tr>\n",
       "      <th>C</th>\n",
       "      <td>2</td>\n",
       "      <td>9</td>\n",
       "    </tr>\n",
       "  </tbody>\n",
       "</table>\n",
       "</div>"
      ],
      "text/plain": [
       "     data1  data2\n",
       "key              \n",
       "A        0      5\n",
       "B        1      7\n",
       "C        2      9"
      ]
     },
     "execution_count": 23,
     "metadata": {},
     "output_type": "execute_result"
    }
   ],
   "source": [
    "df.groupby('key').agg({\n",
    "    'data1': 'min',\n",
    "    'data2': 'max'\n",
    "})"
   ]
  },
  {
   "cell_type": "code",
   "execution_count": 25,
   "id": "8c7abfad-46de-4636-ac3c-7f272d1b6bbc",
   "metadata": {},
   "outputs": [
    {
     "data": {
      "text/html": [
       "<div>\n",
       "<style scoped>\n",
       "    .dataframe tbody tr th:only-of-type {\n",
       "        vertical-align: middle;\n",
       "    }\n",
       "\n",
       "    .dataframe tbody tr th {\n",
       "        vertical-align: top;\n",
       "    }\n",
       "\n",
       "    .dataframe thead th {\n",
       "        text-align: right;\n",
       "    }\n",
       "</style>\n",
       "<table border=\"1\" class=\"dataframe\">\n",
       "  <thead>\n",
       "    <tr style=\"text-align: right;\">\n",
       "      <th></th>\n",
       "      <th>data1_min</th>\n",
       "      <th>data2_max</th>\n",
       "    </tr>\n",
       "    <tr>\n",
       "      <th>key</th>\n",
       "      <th></th>\n",
       "      <th></th>\n",
       "    </tr>\n",
       "  </thead>\n",
       "  <tbody>\n",
       "    <tr>\n",
       "      <th>A</th>\n",
       "      <td>0</td>\n",
       "      <td>5</td>\n",
       "    </tr>\n",
       "    <tr>\n",
       "      <th>B</th>\n",
       "      <td>1</td>\n",
       "      <td>7</td>\n",
       "    </tr>\n",
       "    <tr>\n",
       "      <th>C</th>\n",
       "      <td>2</td>\n",
       "      <td>9</td>\n",
       "    </tr>\n",
       "  </tbody>\n",
       "</table>\n",
       "</div>"
      ],
      "text/plain": [
       "     data1_min  data2_max\n",
       "key                      \n",
       "A            0          5\n",
       "B            1          7\n",
       "C            2          9"
      ]
     },
     "execution_count": 25,
     "metadata": {},
     "output_type": "execute_result"
    }
   ],
   "source": [
    "df.groupby('key').agg(\n",
    "    data1_min=('data1', 'min'),\n",
    "    data2_max=('data2', 'max')\n",
    ")"
   ]
  },
  {
   "cell_type": "code",
   "execution_count": 26,
   "id": "917e4ee9-dee4-4a1a-8f81-f6ffb0969d0c",
   "metadata": {},
   "outputs": [
    {
     "data": {
      "text/html": [
       "<div>\n",
       "<style scoped>\n",
       "    .dataframe tbody tr th:only-of-type {\n",
       "        vertical-align: middle;\n",
       "    }\n",
       "\n",
       "    .dataframe tbody tr th {\n",
       "        vertical-align: top;\n",
       "    }\n",
       "\n",
       "    .dataframe thead th {\n",
       "        text-align: right;\n",
       "    }\n",
       "</style>\n",
       "<table border=\"1\" class=\"dataframe\">\n",
       "  <thead>\n",
       "    <tr style=\"text-align: right;\">\n",
       "      <th></th>\n",
       "      <th>data1</th>\n",
       "      <th>data2</th>\n",
       "    </tr>\n",
       "  </thead>\n",
       "  <tbody>\n",
       "    <tr>\n",
       "      <th>0</th>\n",
       "      <td>-1.5</td>\n",
       "      <td>1.0</td>\n",
       "    </tr>\n",
       "    <tr>\n",
       "      <th>1</th>\n",
       "      <td>-1.5</td>\n",
       "      <td>-3.5</td>\n",
       "    </tr>\n",
       "    <tr>\n",
       "      <th>2</th>\n",
       "      <td>-1.5</td>\n",
       "      <td>-3.0</td>\n",
       "    </tr>\n",
       "    <tr>\n",
       "      <th>3</th>\n",
       "      <td>1.5</td>\n",
       "      <td>-1.0</td>\n",
       "    </tr>\n",
       "    <tr>\n",
       "      <th>4</th>\n",
       "      <td>1.5</td>\n",
       "      <td>3.5</td>\n",
       "    </tr>\n",
       "    <tr>\n",
       "      <th>5</th>\n",
       "      <td>1.5</td>\n",
       "      <td>3.0</td>\n",
       "    </tr>\n",
       "  </tbody>\n",
       "</table>\n",
       "</div>"
      ],
      "text/plain": [
       "   data1  data2\n",
       "0   -1.5    1.0\n",
       "1   -1.5   -3.5\n",
       "2   -1.5   -3.0\n",
       "3    1.5   -1.0\n",
       "4    1.5    3.5\n",
       "5    1.5    3.0"
      ]
     },
     "execution_count": 26,
     "metadata": {},
     "output_type": "execute_result"
    }
   ],
   "source": [
    "df.groupby('key').transform(lambda x: x - x.mean())"
   ]
  },
  {
   "cell_type": "markdown",
   "id": "6febc118-6ebe-4de5-94dd-8e871e5c72fb",
   "metadata": {},
   "source": [
    "# 3. Exercise"
   ]
  },
  {
   "cell_type": "markdown",
   "id": "fc6e8370-ec37-403f-9070-139351af767f",
   "metadata": {},
   "source": [
    "Load the cinema dataset (\"../data/cinema.csv\")\n",
    "Answer the fowllowing questions (N.B. you need some clean ups): \n",
    "    \n",
    "1. Which year/decade had the most production?\n",
    "2. What is the average sale over each decade? (considering only the available data)\n",
    "3. Plot the distribution of movie durations\n",
    "4. Who were the busiest star in each decade?"
   ]
  },
  {
   "cell_type": "code",
   "execution_count": null,
   "id": "3cb498b9-9020-45a9-88e2-d4006d69f4ab",
   "metadata": {},
   "outputs": [],
   "source": []
  }
 ],
 "metadata": {
  "kernelspec": {
   "display_name": "Python 3 (ipykernel)",
   "language": "python",
   "name": "python3"
  },
  "language_info": {
   "codemirror_mode": {
    "name": "ipython",
    "version": 3
   },
   "file_extension": ".py",
   "mimetype": "text/x-python",
   "name": "python",
   "nbconvert_exporter": "python",
   "pygments_lexer": "ipython3",
   "version": "3.10.0"
  }
 },
 "nbformat": 4,
 "nbformat_minor": 5
}
